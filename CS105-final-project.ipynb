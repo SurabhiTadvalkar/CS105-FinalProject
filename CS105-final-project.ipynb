{
 "cells": [
  {
   "cell_type": "markdown",
   "id": "9aed773b",
   "metadata": {},
   "source": [
    "Intro/About\n",
    "\n",
    "Our project tackles the problem of sending offers to the right customers to increase revenue.\n",
    "\n",
    "The data set contains simulated data that mimics customer behavior on the Starbucks rewards mobile app. Once every few days, Starbucks sends out an offer to users of the mobile app. An offer can be merely an advertisement for a drink or an actual offer such as a discount or BOGO(buy one get one free). Some users might not receive any offer during certain weeks.\n",
    "\n",
    "Not all users receive the same offer, and that is the challenge to solve with this data set.\n"
   ]
  },
  {
   "cell_type": "markdown",
   "id": "1ef44a03-c050-448e-a930-33e14568afbb",
   "metadata": {},
   "source": [
    "1) We have three files: portfolio.csv, transcript.csv, and profile.csv.\n",
    "\n",
    "    - Profile data: contains 17000 records and 6 columns where each record has data about each person, their age, salary, id, when they became member on(Date)and gender and unnnamed column.\n",
    "\n",
    "    - Portfolio data: contains 10 rows and 7 columns which contains  promotional offers that are possible to receive, and basic information about each one including the promotional type, duration of the promotion, reward, and how the promotion was distributed to customers.\n",
    "\n",
    "    - Transcript data: has 306534 rows and  5 columns which contains the different steps of promotional offers that a customer received, channels through which offers are possible, minimum required to spend to complete an offer.\n",
    "\n",
    "\n",
    "    - For each of the csv file, these steps are followed:\n",
    "        * Reading the csv files, removing unnecessary columns, Data wrangling and Binning\n",
    "        * Feature Engineering\n",
    "        * Univariate Analysis\n",
    "        * Bivariate Analysis\n"
   ]
  },
  {
   "cell_type": "markdown",
   "id": "65d71d5e",
   "metadata": {},
   "source": [
    "We have combed through the scientific data and predictions we will be comparing our Starbucks Customer data.\n",
    "\n",
    "We decided to first clean the data. There were lots of missing values(NaN). Since most of the values were around the same, we decided to just fill the NaN values with the mean values. Next we analyzed the dataset by using a histogram, scatterplots, joint plots, and a boxplot.\n"
   ]
  },
  {
   "cell_type": "code",
   "execution_count": 133,
   "id": "abe70ebf-7b36-43d9-b4df-7ce9739b99e3",
   "metadata": {},
   "outputs": [
    {
     "data": {
      "text/html": [
       "<div>\n",
       "<style scoped>\n",
       "    .dataframe tbody tr th:only-of-type {\n",
       "        vertical-align: middle;\n",
       "    }\n",
       "\n",
       "    .dataframe tbody tr th {\n",
       "        vertical-align: top;\n",
       "    }\n",
       "\n",
       "    .dataframe thead th {\n",
       "        text-align: right;\n",
       "    }\n",
       "</style>\n",
       "<table border=\"1\" class=\"dataframe\">\n",
       "  <thead>\n",
       "    <tr style=\"text-align: right;\">\n",
       "      <th></th>\n",
       "      <th>Unnamed: 0</th>\n",
       "      <th>person</th>\n",
       "      <th>event</th>\n",
       "      <th>value</th>\n",
       "      <th>time</th>\n",
       "    </tr>\n",
       "  </thead>\n",
       "  <tbody>\n",
       "    <tr>\n",
       "      <th>0</th>\n",
       "      <td>0</td>\n",
       "      <td>78afa995795e4d85b5d9ceeca43f5fef</td>\n",
       "      <td>offer received</td>\n",
       "      <td>{'offer id': '9b98b8c7a33c4b65b9aebfe6a799e6d9'}</td>\n",
       "      <td>0</td>\n",
       "    </tr>\n",
       "    <tr>\n",
       "      <th>1</th>\n",
       "      <td>1</td>\n",
       "      <td>a03223e636434f42ac4c3df47e8bac43</td>\n",
       "      <td>offer received</td>\n",
       "      <td>{'offer id': '0b1e1539f2cc45b7b9fa7c272da2e1d7'}</td>\n",
       "      <td>0</td>\n",
       "    </tr>\n",
       "    <tr>\n",
       "      <th>2</th>\n",
       "      <td>2</td>\n",
       "      <td>e2127556f4f64592b11af22de27a7932</td>\n",
       "      <td>offer received</td>\n",
       "      <td>{'offer id': '2906b810c7d4411798c6938adc9daaa5'}</td>\n",
       "      <td>0</td>\n",
       "    </tr>\n",
       "    <tr>\n",
       "      <th>3</th>\n",
       "      <td>3</td>\n",
       "      <td>8ec6ce2a7e7949b1bf142def7d0e0586</td>\n",
       "      <td>offer received</td>\n",
       "      <td>{'offer id': 'fafdcd668e3743c1bb461111dcafc2a4'}</td>\n",
       "      <td>0</td>\n",
       "    </tr>\n",
       "    <tr>\n",
       "      <th>4</th>\n",
       "      <td>4</td>\n",
       "      <td>68617ca6246f4fbc85e91a2a49552598</td>\n",
       "      <td>offer received</td>\n",
       "      <td>{'offer id': '4d5c57ea9a6940dd891ad53e9dbe8da0'}</td>\n",
       "      <td>0</td>\n",
       "    </tr>\n",
       "    <tr>\n",
       "      <th>...</th>\n",
       "      <td>...</td>\n",
       "      <td>...</td>\n",
       "      <td>...</td>\n",
       "      <td>...</td>\n",
       "      <td>...</td>\n",
       "    </tr>\n",
       "    <tr>\n",
       "      <th>306529</th>\n",
       "      <td>306529</td>\n",
       "      <td>b3a1272bc9904337b331bf348c3e8c17</td>\n",
       "      <td>transaction</td>\n",
       "      <td>{'amount': 1.5899999999999999}</td>\n",
       "      <td>714</td>\n",
       "    </tr>\n",
       "    <tr>\n",
       "      <th>306530</th>\n",
       "      <td>306530</td>\n",
       "      <td>68213b08d99a4ae1b0dcb72aebd9aa35</td>\n",
       "      <td>transaction</td>\n",
       "      <td>{'amount': 9.53}</td>\n",
       "      <td>714</td>\n",
       "    </tr>\n",
       "    <tr>\n",
       "      <th>306531</th>\n",
       "      <td>306531</td>\n",
       "      <td>a00058cf10334a308c68e7631c529907</td>\n",
       "      <td>transaction</td>\n",
       "      <td>{'amount': 3.61}</td>\n",
       "      <td>714</td>\n",
       "    </tr>\n",
       "    <tr>\n",
       "      <th>306532</th>\n",
       "      <td>306532</td>\n",
       "      <td>76ddbd6576844afe811f1a3c0fbb5bec</td>\n",
       "      <td>transaction</td>\n",
       "      <td>{'amount': 3.5300000000000002}</td>\n",
       "      <td>714</td>\n",
       "    </tr>\n",
       "    <tr>\n",
       "      <th>306533</th>\n",
       "      <td>306533</td>\n",
       "      <td>c02b10e8752c4d8e9b73f918558531f7</td>\n",
       "      <td>transaction</td>\n",
       "      <td>{'amount': 4.05}</td>\n",
       "      <td>714</td>\n",
       "    </tr>\n",
       "  </tbody>\n",
       "</table>\n",
       "<p>306534 rows × 5 columns</p>\n",
       "</div>"
      ],
      "text/plain": [
       "        Unnamed: 0                            person           event  \\\n",
       "0                0  78afa995795e4d85b5d9ceeca43f5fef  offer received   \n",
       "1                1  a03223e636434f42ac4c3df47e8bac43  offer received   \n",
       "2                2  e2127556f4f64592b11af22de27a7932  offer received   \n",
       "3                3  8ec6ce2a7e7949b1bf142def7d0e0586  offer received   \n",
       "4                4  68617ca6246f4fbc85e91a2a49552598  offer received   \n",
       "...            ...                               ...             ...   \n",
       "306529      306529  b3a1272bc9904337b331bf348c3e8c17     transaction   \n",
       "306530      306530  68213b08d99a4ae1b0dcb72aebd9aa35     transaction   \n",
       "306531      306531  a00058cf10334a308c68e7631c529907     transaction   \n",
       "306532      306532  76ddbd6576844afe811f1a3c0fbb5bec     transaction   \n",
       "306533      306533  c02b10e8752c4d8e9b73f918558531f7     transaction   \n",
       "\n",
       "                                                   value  time  \n",
       "0       {'offer id': '9b98b8c7a33c4b65b9aebfe6a799e6d9'}     0  \n",
       "1       {'offer id': '0b1e1539f2cc45b7b9fa7c272da2e1d7'}     0  \n",
       "2       {'offer id': '2906b810c7d4411798c6938adc9daaa5'}     0  \n",
       "3       {'offer id': 'fafdcd668e3743c1bb461111dcafc2a4'}     0  \n",
       "4       {'offer id': '4d5c57ea9a6940dd891ad53e9dbe8da0'}     0  \n",
       "...                                                  ...   ...  \n",
       "306529                    {'amount': 1.5899999999999999}   714  \n",
       "306530                                  {'amount': 9.53}   714  \n",
       "306531                                  {'amount': 3.61}   714  \n",
       "306532                    {'amount': 3.5300000000000002}   714  \n",
       "306533                                  {'amount': 4.05}   714  \n",
       "\n",
       "[306534 rows x 5 columns]"
      ]
     },
     "execution_count": 133,
     "metadata": {},
     "output_type": "execute_result"
    },
    {
     "data": {
      "image/png": "[encoded data removed]",
      "text/plain": [
       "<Figure size 432x288 with 1 Axes>"
      ]
     },
     "metadata": {},
     "output_type": "display_data"
    }
   ],
   "source": [
    "import pandas as pd\n",
    "import numpy as np\n",
    "import matplotlib.pyplot as plt\n",
    "import seaborn as sns\n",
    "import sklearn\n",
    "\n",
    "port = pd.read_csv(\"portfolio.csv\")\n",
    "trans = pd.read_csv(\"transcript.csv\")\n",
    "prof = pd.read_csv(\"profile.csv\")\n",
    "trans\n",
    "\n",
    "trans2 = trans.copy()\n",
    "trans2[\"sum\"] = 1\n",
    "fi, ax = plt.subplots()\n",
    "trans2_plot = trans2.groupby(\"event\").sum()[\"sum\"].plot.pie(autopct='%.0f%%')\n",
    "trans2_plot\n",
    "trans\n"
   ]
  },
  {
   "cell_type": "markdown",
   "id": "c8eb619f-6d60-45e8-afc2-315b987f8fb5",
   "metadata": {},
   "source": [
    "Predicting how much a customer will spend (based on the age, income, and sex):"
   ]
  },
  {
   "cell_type": "code",
   "execution_count": 134,
   "id": "b1516b8c-e7a8-4a5a-aba9-3c863855efae",
   "metadata": {},
   "outputs": [
    {
     "data": {
      "text/html": [
       "<div>\n",
       "<style scoped>\n",
       "    .dataframe tbody tr th:only-of-type {\n",
       "        vertical-align: middle;\n",
       "    }\n",
       "\n",
       "    .dataframe tbody tr th {\n",
       "        vertical-align: top;\n",
       "    }\n",
       "\n",
       "    .dataframe thead th {\n",
       "        text-align: right;\n",
       "    }\n",
       "</style>\n",
       "<table border=\"1\" class=\"dataframe\">\n",
       "  <thead>\n",
       "    <tr style=\"text-align: right;\">\n",
       "      <th></th>\n",
       "      <th>index</th>\n",
       "      <th>value</th>\n",
       "      <th>age</th>\n",
       "      <th>income</th>\n",
       "      <th>gender</th>\n",
       "    </tr>\n",
       "  </thead>\n",
       "  <tbody>\n",
       "    <tr>\n",
       "      <th>0</th>\n",
       "      <td>0</td>\n",
       "      <td>9b98b8c7a33c4b65b9aebfe6a799e6d9</td>\n",
       "      <td>75</td>\n",
       "      <td>100000.0</td>\n",
       "      <td>F</td>\n",
       "    </tr>\n",
       "    <tr>\n",
       "      <th>1</th>\n",
       "      <td>1</td>\n",
       "      <td>9b98b8c7a33c4b65b9aebfe6a799e6d9</td>\n",
       "      <td>75</td>\n",
       "      <td>100000.0</td>\n",
       "      <td>F</td>\n",
       "    </tr>\n",
       "    <tr>\n",
       "      <th>2</th>\n",
       "      <td>2</td>\n",
       "      <td>19.89</td>\n",
       "      <td>75</td>\n",
       "      <td>100000.0</td>\n",
       "      <td>F</td>\n",
       "    </tr>\n",
       "    <tr>\n",
       "      <th>3</th>\n",
       "      <td>3</td>\n",
       "      <td>9b98b8c7a33c4b65b9aebfe6a799e6d9, reward 5</td>\n",
       "      <td>75</td>\n",
       "      <td>100000.0</td>\n",
       "      <td>F</td>\n",
       "    </tr>\n",
       "    <tr>\n",
       "      <th>4</th>\n",
       "      <td>4</td>\n",
       "      <td>17.78</td>\n",
       "      <td>75</td>\n",
       "      <td>100000.0</td>\n",
       "      <td>F</td>\n",
       "    </tr>\n",
       "    <tr>\n",
       "      <th>...</th>\n",
       "      <td>...</td>\n",
       "      <td>...</td>\n",
       "      <td>...</td>\n",
       "      <td>...</td>\n",
       "      <td>...</td>\n",
       "    </tr>\n",
       "    <tr>\n",
       "      <th>306529</th>\n",
       "      <td>306529</td>\n",
       "      <td>4d5c57ea9a6940dd891ad53e9dbe8da0</td>\n",
       "      <td>118</td>\n",
       "      <td>NaN</td>\n",
       "      <td>NaN</td>\n",
       "    </tr>\n",
       "    <tr>\n",
       "      <th>306530</th>\n",
       "      <td>306530</td>\n",
       "      <td>4d5c57ea9a6940dd891ad53e9dbe8da0</td>\n",
       "      <td>118</td>\n",
       "      <td>NaN</td>\n",
       "      <td>NaN</td>\n",
       "    </tr>\n",
       "    <tr>\n",
       "      <th>306531</th>\n",
       "      <td>306531</td>\n",
       "      <td>4d5c57ea9a6940dd891ad53e9dbe8da0</td>\n",
       "      <td>58</td>\n",
       "      <td>78000.0</td>\n",
       "      <td>F</td>\n",
       "    </tr>\n",
       "    <tr>\n",
       "      <th>306532</th>\n",
       "      <td>306532</td>\n",
       "      <td>4d5c57ea9a6940dd891ad53e9dbe8da0</td>\n",
       "      <td>58</td>\n",
       "      <td>78000.0</td>\n",
       "      <td>F</td>\n",
       "    </tr>\n",
       "    <tr>\n",
       "      <th>306533</th>\n",
       "      <td>306533</td>\n",
       "      <td>0.35000000000000003</td>\n",
       "      <td>118</td>\n",
       "      <td>NaN</td>\n",
       "      <td>NaN</td>\n",
       "    </tr>\n",
       "  </tbody>\n",
       "</table>\n",
       "<p>306534 rows × 5 columns</p>\n",
       "</div>"
      ],
      "text/plain": [
       "         index                                        value  age    income  \\\n",
       "0            0             9b98b8c7a33c4b65b9aebfe6a799e6d9   75  100000.0   \n",
       "1            1             9b98b8c7a33c4b65b9aebfe6a799e6d9   75  100000.0   \n",
       "2            2                                        19.89   75  100000.0   \n",
       "3            3   9b98b8c7a33c4b65b9aebfe6a799e6d9, reward 5   75  100000.0   \n",
       "4            4                                        17.78   75  100000.0   \n",
       "...        ...                                          ...  ...       ...   \n",
       "306529  306529             4d5c57ea9a6940dd891ad53e9dbe8da0  118       NaN   \n",
       "306530  306530             4d5c57ea9a6940dd891ad53e9dbe8da0  118       NaN   \n",
       "306531  306531             4d5c57ea9a6940dd891ad53e9dbe8da0   58   78000.0   \n",
       "306532  306532             4d5c57ea9a6940dd891ad53e9dbe8da0   58   78000.0   \n",
       "306533  306533                          0.35000000000000003  118       NaN   \n",
       "\n",
       "       gender  \n",
       "0           F  \n",
       "1           F  \n",
       "2           F  \n",
       "3           F  \n",
       "4           F  \n",
       "...       ...  \n",
       "306529    NaN  \n",
       "306530    NaN  \n",
       "306531      F  \n",
       "306532      F  \n",
       "306533    NaN  \n",
       "\n",
       "[306534 rows x 5 columns]"
      ]
     },
     "execution_count": 134,
     "metadata": {},
     "output_type": "execute_result"
    }
   ],
   "source": [
    "#since we are predciting transactions, we seperate the transactions from the rest of the dataset\n",
    "df = trans.copy().reset_index()\n",
    "\n",
    "#merge profile and transcript by customer id so that we have demographics of each person who made a transaction\n",
    "df = df.merge(prof, left_on=\"person\", right_on=\"id\")[\n",
    "    [\"person\", \"value\", \"age\", \"income\", \"gender\"]]\n",
    "df[\"value\"] = df[\"value\"].str.replace(\"{\", \"\", regex=True)\n",
    "df[\"value\"] = df[\"value\"].str.replace(\"}\", \"\", regex=True)\n",
    "df[\"value\"] = df[\"value\"].str.replace(\"amount\", \"\", regex=True)\n",
    "df[\"value\"] = df[\"value\"].str.replace(\"id\", \"\", regex=True)\n",
    "\n",
    "df[\"value\"] = df[\"value\"].str.replace(\"offer\", \"\", regex=True)\n",
    "df[\"value\"] = df[\"value\"].str.replace(\":\", \"\", regex=True)\n",
    "df[\"value\"] = df[\"value\"].str.replace(\"'\", \"\", regex=True)\n",
    "df[\"value\"] = df[\"value\"].str.replace(\"_\", \"\", regex=True)\n",
    "\n",
    "\n",
    "del df[\"person\"]\n",
    "df = df.reset_index()\n",
    "\n",
    "df\n",
    "\n",
    "#cleaning is done, time to implement knn\n",
    "\n"
   ]
  },
  {
   "cell_type": "markdown",
   "id": "b8d26ec1",
   "metadata": {},
   "source": [
    "DYLAN: EDA of 'Profile'\n",
    "\n",
    "    Personal Notes:\n",
    "    - Do some chi squares of like age, income, and gender on the transaction or offer received\n",
    "    - You can convert some of the categorical variables into numbers and use the .corr() function\n",
    "    - To find linear correlations\n",
    "    - Also make like pie charts of the customers using the profile csv\n",
    "    - Age and income should be like a line graph maybe. Or like a scattered plot or something"
   ]
  },
  {
   "cell_type": "markdown",
   "id": "f45d7fe2",
   "metadata": {},
   "source": [
    "We will first analyse the AGE DISTRIBUTION of the Starbucks customers using the 'age' column from 'profile'"
   ]
  },
  {
   "cell_type": "code",
   "execution_count": 135,
   "id": "652cbc2c-d2ae-42b8-bb2b-e2e2255a39aa",
   "metadata": {},
   "outputs": [
    {
     "data": {
      "image/png": "[encoded data removed]",
      "text/plain": [
       "<Figure size 432x288 with 1 Axes>"
      ]
     },
     "metadata": {
      "needs_background": "light"
     },
     "output_type": "display_data"
    }
   ],
   "source": [
    "import pandas as pd\n",
    "import numpy as np\n",
    "from scipy.stats import chi2_contingency\n",
    "import seaborn as sns\n",
    "import matplotlib.pyplot as plt\n",
    "import warnings\n",
    "warnings.filterwarnings('ignore')\n",
    "%matplotlib inline\n",
    "\n",
    "\n",
    "pd.set_option('mode.chained_assignment',  None)\n",
    "pd.set_option('display.max_columns', None)\n",
    "\n",
    "\n",
    "prof = prof = pd.read_csv(\"profile.csv\")\n",
    "prof.head()\n",
    "\n",
    "#there are some null values in the 'profile'.\n",
    "prof.isna().sum()\n",
    "\n",
    "sns.histplot(data=prof, x='age')\n",
    "plt.show()\n",
    "\n"
   ]
  },
  {
   "cell_type": "markdown",
   "id": "202d0c4c",
   "metadata": {},
   "source": [
    "Here we see a higher number of unsually high (or old) aged people in our 'profile' data set. \n",
    "\n",
    "We will now take a closer look and check the statistical information of 'profile'"
   ]
  },
  {
   "cell_type": "code",
   "execution_count": 136,
   "id": "4d4cc1f5",
   "metadata": {},
   "outputs": [
    {
     "data": {
      "text/plain": [
       "count    17000.000000\n",
       "mean        62.531412\n",
       "std         26.738580\n",
       "min         18.000000\n",
       "25%         45.000000\n",
       "50%         58.000000\n",
       "75%         73.000000\n",
       "max        118.000000\n",
       "Name: age, dtype: float64"
      ]
     },
     "execution_count": 136,
     "metadata": {},
     "output_type": "execute_result"
    }
   ],
   "source": [
    "prof['age'].describe()"
   ]
  },
  {
   "cell_type": "markdown",
   "id": "6c3ba637",
   "metadata": {},
   "source": [
    "We were able to find that the suspicious high age seems to be 118 years old.\n",
    "\n",
    "Interestingly, the customers who have suspiciously high age also have the null value in 'gender' and 'income'.\n",
    "This means it is natural that weremove them from the original 'profile' for the future.\n",
    "\n",
    "So, the cleaned 'profile' looks like this:"
   ]
  },
  {
   "cell_type": "code",
   "execution_count": 137,
   "id": "0471ce75",
   "metadata": {},
   "outputs": [
    {
     "data": {
      "text/html": [
       "<div>\n",
       "<style scoped>\n",
       "    .dataframe tbody tr th:only-of-type {\n",
       "        vertical-align: middle;\n",
       "    }\n",
       "\n",
       "    .dataframe tbody tr th {\n",
       "        vertical-align: top;\n",
       "    }\n",
       "\n",
       "    .dataframe thead th {\n",
       "        text-align: right;\n",
       "    }\n",
       "</style>\n",
       "<table border=\"1\" class=\"dataframe\">\n",
       "  <thead>\n",
       "    <tr style=\"text-align: right;\">\n",
       "      <th></th>\n",
       "      <th>Unnamed: 0</th>\n",
       "      <th>gender</th>\n",
       "      <th>age</th>\n",
       "      <th>id</th>\n",
       "      <th>became_member_on</th>\n",
       "      <th>income</th>\n",
       "    </tr>\n",
       "  </thead>\n",
       "  <tbody>\n",
       "    <tr>\n",
       "      <th>1</th>\n",
       "      <td>1</td>\n",
       "      <td>F</td>\n",
       "      <td>55</td>\n",
       "      <td>0610b486422d4921ae7d2bf64640c50b</td>\n",
       "      <td>20170715</td>\n",
       "      <td>112000.0</td>\n",
       "    </tr>\n",
       "    <tr>\n",
       "      <th>3</th>\n",
       "      <td>3</td>\n",
       "      <td>F</td>\n",
       "      <td>75</td>\n",
       "      <td>78afa995795e4d85b5d9ceeca43f5fef</td>\n",
       "      <td>20170509</td>\n",
       "      <td>100000.0</td>\n",
       "    </tr>\n",
       "    <tr>\n",
       "      <th>5</th>\n",
       "      <td>5</td>\n",
       "      <td>M</td>\n",
       "      <td>68</td>\n",
       "      <td>e2127556f4f64592b11af22de27a7932</td>\n",
       "      <td>20180426</td>\n",
       "      <td>70000.0</td>\n",
       "    </tr>\n",
       "    <tr>\n",
       "      <th>8</th>\n",
       "      <td>8</td>\n",
       "      <td>M</td>\n",
       "      <td>65</td>\n",
       "      <td>389bc3fa690240e798340f5a15918d5c</td>\n",
       "      <td>20180209</td>\n",
       "      <td>53000.0</td>\n",
       "    </tr>\n",
       "    <tr>\n",
       "      <th>12</th>\n",
       "      <td>12</td>\n",
       "      <td>M</td>\n",
       "      <td>58</td>\n",
       "      <td>2eeac8d8feae4a8cad5a6af0499a211d</td>\n",
       "      <td>20171111</td>\n",
       "      <td>51000.0</td>\n",
       "    </tr>\n",
       "  </tbody>\n",
       "</table>\n",
       "</div>"
      ],
      "text/plain": [
       "    Unnamed: 0 gender  age                                id  \\\n",
       "1            1      F   55  0610b486422d4921ae7d2bf64640c50b   \n",
       "3            3      F   75  78afa995795e4d85b5d9ceeca43f5fef   \n",
       "5            5      M   68  e2127556f4f64592b11af22de27a7932   \n",
       "8            8      M   65  389bc3fa690240e798340f5a15918d5c   \n",
       "12          12      M   58  2eeac8d8feae4a8cad5a6af0499a211d   \n",
       "\n",
       "    became_member_on    income  \n",
       "1           20170715  112000.0  \n",
       "3           20170509  100000.0  \n",
       "5           20180426   70000.0  \n",
       "8           20180209   53000.0  \n",
       "12          20171111   51000.0  "
      ]
     },
     "execution_count": 137,
     "metadata": {},
     "output_type": "execute_result"
    }
   ],
   "source": [
    "prof = prof.dropna()\n",
    "prof.head()"
   ]
  },
  {
   "cell_type": "markdown",
   "id": "3cd65ce0",
   "metadata": {},
   "source": [
    "Now we will find the GENDER DISTRIBUTION using the column 'gender' in the 'profile'.\n",
    "\n",
    "First, we will observe the gender count then proceed to the proportion. "
   ]
  },
  {
   "cell_type": "code",
   "execution_count": 138,
   "id": "91daa1f2",
   "metadata": {},
   "outputs": [
    {
     "data": {
      "image/png": "[encoded data removed]",
      "text/plain": [
       "<Figure size 432x288 with 1 Axes>"
      ]
     },
     "metadata": {
      "needs_background": "light"
     },
     "output_type": "display_data"
    }
   ],
   "source": [
    "#drop unnamed:0 column from all dataframes\n",
    "#prof.drop('Unnamed: 0', axis=1, inplace=True)\n",
    "#sns.countplot(prof['gender'])\n",
    "\n",
    "#see gender count\n",
    "\n",
    "sns.barplot(x=prof['gender'].value_counts().index, y=prof['gender'].value_counts())\n",
    "plt.title('Gender Distribution - Count')\n",
    "plt.xlabel('Gender')\n",
    "plt.ylabel('Amount')\n",
    "plt.show()\n",
    "\n"
   ]
  },
  {
   "cell_type": "code",
   "execution_count": 139,
   "id": "41ccb7b1",
   "metadata": {},
   "outputs": [
    {
     "data": {
      "image/png": "[encoded data removed]",
      "text/plain": [
       "<Figure size 432x288 with 1 Axes>"
      ]
     },
     "metadata": {
      "needs_background": "light"
     },
     "output_type": "display_data"
    }
   ],
   "source": [
    "#see proportion of genders\n",
    "sns.barplot(x=prof['gender'].value_counts().index, y=prof['gender'].value_counts(normalize=True))\n",
    "plt.title('Gender Distribution - Proportion')\n",
    "plt.xlabel('Gender')\n",
    "plt.ylabel('Proportion')\n",
    "plt.show()"
   ]
  },
  {
   "cell_type": "markdown",
   "id": "89fe24cc",
   "metadata": {},
   "source": [
    "From the variable description, some entries contain 'O' for other rather than 'M' or 'F'.\n",
    "The gender distirbution is like above, the customers consists of about 57% of male, 40% of female and 3% of the 3rd other sex. \n",
    "So, it looks like there are more male Starbucks customers than female Starbucks customers."
   ]
  },
  {
   "cell_type": "markdown",
   "id": "717682af",
   "metadata": {},
   "source": [
    "Now we will analyze the income dsitribution by using the 'income column' in the 'profile'.\n",
    "\n",
    "Recall that all the missing income were from the 'other' group, because I made every person with no gender as 'other'.\n",
    "\n",
    "First, we will plot a box plot chart to give us an indication of how spread out the values in the data are. "
   ]
  },
  {
   "cell_type": "code",
   "execution_count": 141,
   "id": "395431f2",
   "metadata": {},
   "outputs": [
    {
     "data": {
      "text/plain": [
       "Text(0.5, 1.0, 'Income distribution spread')"
      ]
     },
     "execution_count": 141,
     "metadata": {},
     "output_type": "execute_result"
    },
    {
     "data": {
      "image/png": "[encoded data removed]",
      "text/plain": [
       "<Figure size 432x288 with 1 Axes>"
      ]
     },
     "metadata": {
      "needs_background": "light"
     },
     "output_type": "display_data"
    }
   ],
   "source": [
    "sns.boxplot(data=prof, x='income')\n",
    "plt.title('Customer Income Spread')"
   ]
  },
  {
   "cell_type": "markdown",
   "id": "bd133b12",
   "metadata": {},
   "source": [
    "Next, "
   ]
  },
  {
   "cell_type": "code",
   "execution_count": null,
   "id": "e3552804",
   "metadata": {},
   "outputs": [
    {
     "data": {
      "text/plain": [
       "Text(0.5, 1.0, 'Income per gender')"
      ]
     },
     "execution_count": 84,
     "metadata": {},
     "output_type": "execute_result"
    },
    {
     "data": {
      "image/png": "[encoded data removed]",
      "text/plain": [
       "<Figure size 404.625x360 with 1 Axes>"
      ]
     },
     "metadata": {
      "needs_background": "light"
     },
     "output_type": "display_data"
    }
   ],
   "source": [
    "sns.displot(prof, x='income', hue='gender', bins=30)\n",
    "plt.title('Income per gender')"
   ]
  },
  {
   "cell_type": "code",
   "execution_count": null,
   "id": "4ac34787",
   "metadata": {},
   "outputs": [
    {
     "data": {
      "text/plain": [
       "Text(0, 0.5, 'Income Amount * 1e8')"
      ]
     },
     "execution_count": 88,
     "metadata": {},
     "output_type": "execute_result"
    },
    {
     "data": {
      "image/png": "[encoded data removed]",
      "text/plain": [
       "<Figure size 432x288 with 1 Axes>"
      ]
     },
     "metadata": {
      "needs_background": "light"
     },
     "output_type": "display_data"
    }
   ],
   "source": [
    "prof.groupby('gender').sum()['income'].plot(kind='bar')\n",
    "plt.title('Total income per gender')\n",
    "plt.ylabel('Income Amount (* 1e8)')"
   ]
  },
  {
   "cell_type": "markdown",
   "id": "8f3049fb",
   "metadata": {},
   "source": [
    "From these two charts, we can see that the total income for males is higher, despite the number of females in the higher income (75k or more) are greater than males.\n",
    "\n",
    "Now, we will create a new 'track_income' column to use for comparison and plot the histogram.\n",
    "And to finish off, we will also calculate the average mean income and median income for all customers, regardless of gender."
   ]
  },
  {
   "cell_type": "code",
   "execution_count": null,
   "id": "8de40604",
   "metadata": {},
   "outputs": [
    {
     "data": {
      "image/png": "[encoded data removed]",
      "text/plain": [
       "<Figure size 1080x360 with 2 Axes>"
      ]
     },
     "metadata": {
      "needs_background": "light"
     },
     "output_type": "display_data"
    },
    {
     "name": "stdout",
     "output_type": "stream",
     "text": [
      "Average income is: $65404.992\n",
      "Median income is: $64000.0\n"
     ]
    }
   ],
   "source": [
    "prof['track_income'] = prof['income'].apply(np.log10)\n",
    "\n",
    "fig, axes = plt.subplots(1, 2, figsize=(15, 5))\n",
    "\n",
    "for i, col in enumerate(['income', 'track_income']):\n",
    "    sns.histplot(ax=axes[i], data=prof, x=col, kde=True)\n",
    "\n",
    "axes[0].set_title('Income Distribution')\n",
    "axes[1].set_title('Track-Income Distribution')\n",
    "plt.show()\n",
    "\n",
    "print('Average income is: ${}'.format(round(prof['income'].mean(), 3)))\n",
    "print('Median income is: ${}'.format(prof['income'].median()))\n"
   ]
  },
  {
   "cell_type": "markdown",
   "id": "ab4e431f",
   "metadata": {},
   "source": [
    "Now we will find the average PURCHASE DISTRIBUTION. \n",
    "\n",
    "To accomplish this, we first need to merge 'profile' and 'transcript' data sets."
   ]
  },
  {
   "cell_type": "code",
   "execution_count": null,
   "id": "1664a78b",
   "metadata": {},
   "outputs": [],
   "source": []
  },
  {
   "cell_type": "code",
   "execution_count": null,
   "id": "837fec20",
   "metadata": {},
   "outputs": [
    {
     "data": {
      "text/html": [
       "<div>\n",
       "<style scoped>\n",
       "    .dataframe tbody tr th:only-of-type {\n",
       "        vertical-align: middle;\n",
       "    }\n",
       "\n",
       "    .dataframe tbody tr th {\n",
       "        vertical-align: top;\n",
       "    }\n",
       "\n",
       "    .dataframe thead th {\n",
       "        text-align: right;\n",
       "    }\n",
       "</style>\n",
       "<table border=\"1\" class=\"dataframe\">\n",
       "  <thead>\n",
       "    <tr style=\"text-align: right;\">\n",
       "      <th></th>\n",
       "      <th>gender</th>\n",
       "      <th>age</th>\n",
       "      <th>id</th>\n",
       "      <th>became_member_on</th>\n",
       "      <th>income</th>\n",
       "      <th>track_income</th>\n",
       "      <th>Unnamed: 0</th>\n",
       "      <th>person</th>\n",
       "      <th>event</th>\n",
       "      <th>value</th>\n",
       "      <th>time</th>\n",
       "    </tr>\n",
       "  </thead>\n",
       "  <tbody>\n",
       "    <tr>\n",
       "      <th>0</th>\n",
       "      <td>F</td>\n",
       "      <td>55</td>\n",
       "      <td>0610b486422d4921ae7d2bf64640c50b</td>\n",
       "      <td>20170715</td>\n",
       "      <td>112000.0</td>\n",
       "      <td>5.049218</td>\n",
       "      <td>20282</td>\n",
       "      <td>0610b486422d4921ae7d2bf64640c50b</td>\n",
       "      <td>transaction</td>\n",
       "      <td>{'amount': 21.51}</td>\n",
       "      <td>18</td>\n",
       "    </tr>\n",
       "    <tr>\n",
       "      <th>1</th>\n",
       "      <td>F</td>\n",
       "      <td>55</td>\n",
       "      <td>0610b486422d4921ae7d2bf64640c50b</td>\n",
       "      <td>20170715</td>\n",
       "      <td>112000.0</td>\n",
       "      <td>5.049218</td>\n",
       "      <td>49501</td>\n",
       "      <td>0610b486422d4921ae7d2bf64640c50b</td>\n",
       "      <td>transaction</td>\n",
       "      <td>{'amount': 32.28}</td>\n",
       "      <td>144</td>\n",
       "    </tr>\n",
       "    <tr>\n",
       "      <th>2</th>\n",
       "      <td>F</td>\n",
       "      <td>55</td>\n",
       "      <td>0610b486422d4921ae7d2bf64640c50b</td>\n",
       "      <td>20170715</td>\n",
       "      <td>112000.0</td>\n",
       "      <td>5.049218</td>\n",
       "      <td>150597</td>\n",
       "      <td>0610b486422d4921ae7d2bf64640c50b</td>\n",
       "      <td>offer received</td>\n",
       "      <td>{'offer id': '9b98b8c7a33c4b65b9aebfe6a799e6d9'}</td>\n",
       "      <td>408</td>\n",
       "    </tr>\n",
       "    <tr>\n",
       "      <th>3</th>\n",
       "      <td>F</td>\n",
       "      <td>55</td>\n",
       "      <td>0610b486422d4921ae7d2bf64640c50b</td>\n",
       "      <td>20170715</td>\n",
       "      <td>112000.0</td>\n",
       "      <td>5.049218</td>\n",
       "      <td>201571</td>\n",
       "      <td>0610b486422d4921ae7d2bf64640c50b</td>\n",
       "      <td>offer received</td>\n",
       "      <td>{'offer id': '3f207df678b143eea3cee63160fa8bed'}</td>\n",
       "      <td>504</td>\n",
       "    </tr>\n",
       "    <tr>\n",
       "      <th>4</th>\n",
       "      <td>F</td>\n",
       "      <td>55</td>\n",
       "      <td>0610b486422d4921ae7d2bf64640c50b</td>\n",
       "      <td>20170715</td>\n",
       "      <td>112000.0</td>\n",
       "      <td>5.049218</td>\n",
       "      <td>227842</td>\n",
       "      <td>0610b486422d4921ae7d2bf64640c50b</td>\n",
       "      <td>transaction</td>\n",
       "      <td>{'amount': 23.22}</td>\n",
       "      <td>528</td>\n",
       "    </tr>\n",
       "  </tbody>\n",
       "</table>\n",
       "</div>"
      ],
      "text/plain": [
       "  gender  age                                id  became_member_on    income  \\\n",
       "0      F   55  0610b486422d4921ae7d2bf64640c50b          20170715  112000.0   \n",
       "1      F   55  0610b486422d4921ae7d2bf64640c50b          20170715  112000.0   \n",
       "2      F   55  0610b486422d4921ae7d2bf64640c50b          20170715  112000.0   \n",
       "3      F   55  0610b486422d4921ae7d2bf64640c50b          20170715  112000.0   \n",
       "4      F   55  0610b486422d4921ae7d2bf64640c50b          20170715  112000.0   \n",
       "\n",
       "   track_income  Unnamed: 0                            person           event  \\\n",
       "0      5.049218       20282  0610b486422d4921ae7d2bf64640c50b     transaction   \n",
       "1      5.049218       49501  0610b486422d4921ae7d2bf64640c50b     transaction   \n",
       "2      5.049218      150597  0610b486422d4921ae7d2bf64640c50b  offer received   \n",
       "3      5.049218      201571  0610b486422d4921ae7d2bf64640c50b  offer received   \n",
       "4      5.049218      227842  0610b486422d4921ae7d2bf64640c50b     transaction   \n",
       "\n",
       "                                              value  time  \n",
       "0                                 {'amount': 21.51}    18  \n",
       "1                                 {'amount': 32.28}   144  \n",
       "2  {'offer id': '9b98b8c7a33c4b65b9aebfe6a799e6d9'}   408  \n",
       "3  {'offer id': '3f207df678b143eea3cee63160fa8bed'}   504  \n",
       "4                                 {'amount': 23.22}   528  "
      ]
     },
     "execution_count": 75,
     "metadata": {},
     "output_type": "execute_result"
    }
   ],
   "source": [
    "profile_transcript = prof.merge( right=trans, how='left', left_on='id', right_on='person')\n",
    "profile_transcript.head()"
   ]
  },
  {
   "cell_type": "markdown",
   "id": "79547794",
   "metadata": {},
   "source": [
    "The amount of money spent information is located in the 'transcript -> value whose event == transaction -> amount'.\n",
    "After that, we extract the amount paid using a regular expression module (re)."
   ]
  },
  {
   "cell_type": "code",
   "execution_count": null,
   "id": "e1346976",
   "metadata": {},
   "outputs": [
    {
     "data": {
      "text/html": [
       "<div>\n",
       "<style scoped>\n",
       "    .dataframe tbody tr th:only-of-type {\n",
       "        vertical-align: middle;\n",
       "    }\n",
       "\n",
       "    .dataframe tbody tr th {\n",
       "        vertical-align: top;\n",
       "    }\n",
       "\n",
       "    .dataframe thead th {\n",
       "        text-align: right;\n",
       "    }\n",
       "</style>\n",
       "<table border=\"1\" class=\"dataframe\">\n",
       "  <thead>\n",
       "    <tr style=\"text-align: right;\">\n",
       "      <th></th>\n",
       "      <th>gender</th>\n",
       "      <th>age</th>\n",
       "      <th>id</th>\n",
       "      <th>became_member_on</th>\n",
       "      <th>income</th>\n",
       "      <th>track_income</th>\n",
       "      <th>Unnamed: 0</th>\n",
       "      <th>person</th>\n",
       "      <th>event</th>\n",
       "      <th>amount</th>\n",
       "      <th>time</th>\n",
       "    </tr>\n",
       "  </thead>\n",
       "  <tbody>\n",
       "    <tr>\n",
       "      <th>0</th>\n",
       "      <td>F</td>\n",
       "      <td>55</td>\n",
       "      <td>0610b486422d4921ae7d2bf64640c50b</td>\n",
       "      <td>20170715</td>\n",
       "      <td>112000.0</td>\n",
       "      <td>5.049218</td>\n",
       "      <td>20282</td>\n",
       "      <td>0610b486422d4921ae7d2bf64640c50b</td>\n",
       "      <td>transaction</td>\n",
       "      <td>21.51</td>\n",
       "      <td>18</td>\n",
       "    </tr>\n",
       "    <tr>\n",
       "      <th>1</th>\n",
       "      <td>F</td>\n",
       "      <td>55</td>\n",
       "      <td>0610b486422d4921ae7d2bf64640c50b</td>\n",
       "      <td>20170715</td>\n",
       "      <td>112000.0</td>\n",
       "      <td>5.049218</td>\n",
       "      <td>49501</td>\n",
       "      <td>0610b486422d4921ae7d2bf64640c50b</td>\n",
       "      <td>transaction</td>\n",
       "      <td>32.28</td>\n",
       "      <td>144</td>\n",
       "    </tr>\n",
       "    <tr>\n",
       "      <th>4</th>\n",
       "      <td>F</td>\n",
       "      <td>55</td>\n",
       "      <td>0610b486422d4921ae7d2bf64640c50b</td>\n",
       "      <td>20170715</td>\n",
       "      <td>112000.0</td>\n",
       "      <td>5.049218</td>\n",
       "      <td>227842</td>\n",
       "      <td>0610b486422d4921ae7d2bf64640c50b</td>\n",
       "      <td>transaction</td>\n",
       "      <td>23.22</td>\n",
       "      <td>528</td>\n",
       "    </tr>\n",
       "    <tr>\n",
       "      <th>8</th>\n",
       "      <td>F</td>\n",
       "      <td>75</td>\n",
       "      <td>78afa995795e4d85b5d9ceeca43f5fef</td>\n",
       "      <td>20170509</td>\n",
       "      <td>100000.0</td>\n",
       "      <td>5.000000</td>\n",
       "      <td>47582</td>\n",
       "      <td>78afa995795e4d85b5d9ceeca43f5fef</td>\n",
       "      <td>transaction</td>\n",
       "      <td>19.89</td>\n",
       "      <td>132</td>\n",
       "    </tr>\n",
       "    <tr>\n",
       "      <th>10</th>\n",
       "      <td>F</td>\n",
       "      <td>75</td>\n",
       "      <td>78afa995795e4d85b5d9ceeca43f5fef</td>\n",
       "      <td>20170509</td>\n",
       "      <td>100000.0</td>\n",
       "      <td>5.000000</td>\n",
       "      <td>49502</td>\n",
       "      <td>78afa995795e4d85b5d9ceeca43f5fef</td>\n",
       "      <td>transaction</td>\n",
       "      <td>17.78</td>\n",
       "      <td>144</td>\n",
       "    </tr>\n",
       "  </tbody>\n",
       "</table>\n",
       "</div>"
      ],
      "text/plain": [
       "   gender  age                                id  became_member_on    income  \\\n",
       "0       F   55  0610b486422d4921ae7d2bf64640c50b          20170715  112000.0   \n",
       "1       F   55  0610b486422d4921ae7d2bf64640c50b          20170715  112000.0   \n",
       "4       F   55  0610b486422d4921ae7d2bf64640c50b          20170715  112000.0   \n",
       "8       F   75  78afa995795e4d85b5d9ceeca43f5fef          20170509  100000.0   \n",
       "10      F   75  78afa995795e4d85b5d9ceeca43f5fef          20170509  100000.0   \n",
       "\n",
       "    track_income  Unnamed: 0                            person        event  \\\n",
       "0       5.049218       20282  0610b486422d4921ae7d2bf64640c50b  transaction   \n",
       "1       5.049218       49501  0610b486422d4921ae7d2bf64640c50b  transaction   \n",
       "4       5.049218      227842  0610b486422d4921ae7d2bf64640c50b  transaction   \n",
       "8       5.000000       47582  78afa995795e4d85b5d9ceeca43f5fef  transaction   \n",
       "10      5.000000       49502  78afa995795e4d85b5d9ceeca43f5fef  transaction   \n",
       "\n",
       "    amount  time  \n",
       "0    21.51    18  \n",
       "1    32.28   144  \n",
       "4    23.22   528  \n",
       "8    19.89   132  \n",
       "10   17.78   144  "
      ]
     },
     "execution_count": 76,
     "metadata": {},
     "output_type": "execute_result"
    }
   ],
   "source": [
    "import re\n",
    "\n",
    "transaction = profile_transcript.loc[profile_transcript['event'] == 'transaction']\n",
    "offer = profile_transcript.loc[profile_transcript['event'] != 'transaction']\n",
    "\n",
    "pattern = re.compile('[\\d]+.[\\d]+')\n",
    "transaction['value'] = transaction['value'].apply(pattern.findall).str.get(0)\n",
    "transaction.rename(columns={'value': 'amount'}, inplace=True)\n",
    "transaction = transaction.astype(dtype={'amount': 'float'})\n",
    "\n",
    "transaction.head()"
   ]
  },
  {
   "cell_type": "markdown",
   "id": "1f9c787e",
   "metadata": {},
   "source": [
    "Now, we will make a Pivot Table that contains the average mean purchase amount by each Starbucks member.\n",
    "Also, we will be adding each member's demographic status by merging the pivot table with 'profile':"
   ]
  },
  {
   "cell_type": "code",
   "execution_count": null,
   "id": "6d0b7c99",
   "metadata": {},
   "outputs": [
    {
     "data": {
      "text/html": [
       "<div>\n",
       "<style scoped>\n",
       "    .dataframe tbody tr th:only-of-type {\n",
       "        vertical-align: middle;\n",
       "    }\n",
       "\n",
       "    .dataframe tbody tr th {\n",
       "        vertical-align: top;\n",
       "    }\n",
       "\n",
       "    .dataframe thead th {\n",
       "        text-align: right;\n",
       "    }\n",
       "</style>\n",
       "<table border=\"1\" class=\"dataframe\">\n",
       "  <thead>\n",
       "    <tr style=\"text-align: right;\">\n",
       "      <th></th>\n",
       "      <th>id</th>\n",
       "      <th>amount</th>\n",
       "      <th>gender</th>\n",
       "      <th>age</th>\n",
       "      <th>became_member_on</th>\n",
       "      <th>income</th>\n",
       "      <th>track_income</th>\n",
       "    </tr>\n",
       "  </thead>\n",
       "  <tbody>\n",
       "    <tr>\n",
       "      <th>0</th>\n",
       "      <td>0009655768c64bdeb2e877511632db8f</td>\n",
       "      <td>15.950000</td>\n",
       "      <td>M</td>\n",
       "      <td>33</td>\n",
       "      <td>20170421</td>\n",
       "      <td>72000.0</td>\n",
       "      <td>4.857332</td>\n",
       "    </tr>\n",
       "    <tr>\n",
       "      <th>1</th>\n",
       "      <td>0011e0d4e6b944f998e987f904e8c1e5</td>\n",
       "      <td>15.892000</td>\n",
       "      <td>O</td>\n",
       "      <td>40</td>\n",
       "      <td>20180109</td>\n",
       "      <td>57000.0</td>\n",
       "      <td>4.755875</td>\n",
       "    </tr>\n",
       "    <tr>\n",
       "      <th>2</th>\n",
       "      <td>0020c2b971eb4e9188eac86d93036a77</td>\n",
       "      <td>24.607500</td>\n",
       "      <td>F</td>\n",
       "      <td>59</td>\n",
       "      <td>20160304</td>\n",
       "      <td>90000.0</td>\n",
       "      <td>4.954243</td>\n",
       "    </tr>\n",
       "    <tr>\n",
       "      <th>3</th>\n",
       "      <td>0020ccbbb6d84e358d3414a3ff76cffd</td>\n",
       "      <td>12.837500</td>\n",
       "      <td>F</td>\n",
       "      <td>24</td>\n",
       "      <td>20161111</td>\n",
       "      <td>60000.0</td>\n",
       "      <td>4.778151</td>\n",
       "    </tr>\n",
       "    <tr>\n",
       "      <th>4</th>\n",
       "      <td>003d66b6608740288d6cc97a6903f4f0</td>\n",
       "      <td>2.685556</td>\n",
       "      <td>F</td>\n",
       "      <td>26</td>\n",
       "      <td>20170621</td>\n",
       "      <td>73000.0</td>\n",
       "      <td>4.863323</td>\n",
       "    </tr>\n",
       "  </tbody>\n",
       "</table>\n",
       "</div>"
      ],
      "text/plain": [
       "                                 id     amount gender  age  became_member_on  \\\n",
       "0  0009655768c64bdeb2e877511632db8f  15.950000      M   33          20170421   \n",
       "1  0011e0d4e6b944f998e987f904e8c1e5  15.892000      O   40          20180109   \n",
       "2  0020c2b971eb4e9188eac86d93036a77  24.607500      F   59          20160304   \n",
       "3  0020ccbbb6d84e358d3414a3ff76cffd  12.837500      F   24          20161111   \n",
       "4  003d66b6608740288d6cc97a6903f4f0   2.685556      F   26          20170621   \n",
       "\n",
       "    income  track_income  \n",
       "0  72000.0      4.857332  \n",
       "1  57000.0      4.755875  \n",
       "2  90000.0      4.954243  \n",
       "3  60000.0      4.778151  \n",
       "4  73000.0      4.863323  "
      ]
     },
     "execution_count": 77,
     "metadata": {},
     "output_type": "execute_result"
    }
   ],
   "source": [
    "mean_amount_by_member = pd.pivot_table(data=transaction, values='amount', index='id', aggfunc='mean').reset_index()\n",
    "mean_amount_by_member\n",
    "\n",
    "mean_amount_by_member = mean_amount_by_member.merge(right=prof, how='left', on='id')\n",
    "mean_amount_by_member.head()\n"
   ]
  },
  {
   "cell_type": "code",
   "execution_count": null,
   "id": "0ba8c1d1",
   "metadata": {},
   "outputs": [],
   "source": [
    "\n"
   ]
  },
  {
   "cell_type": "code",
   "execution_count": null,
   "id": "a9c1ccf9",
   "metadata": {},
   "outputs": [
    {
     "data": {
      "image/png": "[encoded data removed]",
      "text/plain": [
       "<Figure size 432x288 with 1 Axes>"
      ]
     },
     "metadata": {
      "needs_background": "light"
     },
     "output_type": "display_data"
    }
   ],
   "source": [
    "amount_by_gender = mean_amount_by_member.groupby(by='gender').mean()['amount']\n",
    "\n",
    "sns.barplot(x = amount_by_gender.index, y = amount_by_gender)\n",
    "\n",
    "plt.title('Average money amount spent by gender')\n",
    "plt.xlabel('Gender')\n",
    "plt.ylabel('Average Amount spent ($)')\n",
    "plt.show()"
   ]
  },
  {
   "cell_type": "markdown",
   "id": "7fb46994",
   "metadata": {},
   "source": [
    "From this, we see that Starbucks female customers spend, on average, $5 more than male customers at Starbucks. "
   ]
  },
  {
   "cell_type": "markdown",
   "id": "f700ac6b",
   "metadata": {},
   "source": [
    "END OF DYLAN PROFILE EDA"
   ]
  },
  {
   "cell_type": "markdown",
   "id": "65e0a81b",
   "metadata": {},
   "source": [
    "Predicting how much a customer will spend based on the age, income, and sex:"
   ]
  },
  {
   "cell_type": "code",
   "execution_count": null,
   "id": "3aad5877",
   "metadata": {},
   "outputs": [
    {
     "name": "stdout",
     "output_type": "stream",
     "text": [
      "[['F']\n",
      " ['M']\n",
      " ['O']]\n",
      "[[1. 0. 0.]\n",
      " [0. 1. 0.]\n",
      " [0. 0. 1.]]\n"
     ]
    }
   ],
   "source": [
    "#since we are predciting transactions, we seperate the transactions from the rest of the dataset\n",
    "from sklearn.preprocessing import OneHotEncoder\n",
    "from numpy import asarray\n",
    "moneySpent = trans[trans[\"event\"] == \"transaction\"].copy().reset_index()\n",
    "\n",
    "#merge profile and transcript by customer id so that we have demographics of each person who made a transaction\n",
    "moneySpent = moneySpent.merge(prof, left_on=\"person\", right_on=\"id\")[\n",
    "    [\"person\", \"value\", \"age\", \"income\", \"gender\"]]\n",
    "moneySpent[\"value\"] = moneySpent[\"value\"].str.replace(\"{\", \"\", regex=True)\n",
    "moneySpent[\"value\"] = moneySpent[\"value\"].str.replace(\"}\", \"\", regex=True)\n",
    "moneySpent[\"value\"] = moneySpent[\"value\"].str.replace(\"amount\", \"\", regex=True)\n",
    "moneySpent[\"value\"] = moneySpent[\"value\"].str.replace(\":\", \"\", regex=True)\n",
    "moneySpent[\"value\"] = moneySpent[\"value\"].str.replace(\"''\", \"\", regex=True)\n",
    "moneySpent[\"value\"] = moneySpent[\"value\"].astype(float)\n",
    "\n",
    "#creating one hot encoding for gender\n",
    "data = asarray([['F'], ['M'], ['O']])\n",
    "print(data)\n",
    "\n",
    "encoder = OneHotEncoder(sparse=False)\n",
    "\n",
    "onehot = encoder.fit_transform(data)\n",
    "print(onehot)\n",
    "\n",
    "#implement onehot\n",
    "moneySpent[\"F\"] = moneySpent[\"gender\"].copy()\n",
    "moneySpent[\"M\"] = moneySpent[\"gender\"].copy()\n",
    "moneySpent[\"O\"] = moneySpent[\"gender\"].copy()\n",
    "\n",
    "moneySpent[\"F\"] = moneySpent[\"F\"].replace(\"F\", 1)\n",
    "moneySpent[\"F\"] = moneySpent[\"F\"].replace(\"M\", 0)\n",
    "moneySpent[\"F\"] = moneySpent[\"F\"].replace(\"O\", 0)\n",
    "moneySpent[\"F\"] = moneySpent[\"F\"].fillna(0)\n",
    "moneySpent[\"F\"] = moneySpent[\"F\"].astype(int)\n",
    "\n",
    "\n",
    "moneySpent[\"M\"] = moneySpent[\"M\"].replace(\"M\", 1)\n",
    "moneySpent[\"M\"] = moneySpent[\"M\"].replace(\"F\", 0)\n",
    "moneySpent[\"M\"] = moneySpent[\"M\"].replace(\"O\", 0)\n",
    "moneySpent[\"M\"] = moneySpent[\"M\"].fillna(0)\n",
    "moneySpent[\"M\"] = moneySpent[\"M\"].astype(int)\n",
    "\n",
    "\n",
    "moneySpent[\"O\"] = moneySpent[\"O\"].replace(\"O\", 1)\n",
    "moneySpent[\"O\"] = moneySpent[\"O\"].replace(\"M\", 0)\n",
    "moneySpent[\"O\"] = moneySpent[\"O\"].replace(\"F\", 0)\n",
    "moneySpent[\"O\"] = moneySpent[\"O\"].fillna(0)\n",
    "moneySpent[\"O\"] = moneySpent[\"O\"].astype(int)\n",
    "\n",
    "\n",
    "moneySpent[\"gender\"] = moneySpent[\"gender\"].replace(\"F\", True)\n",
    "moneySpent[\"gender\"] = moneySpent[\"gender\"].replace(\"M\", True)\n",
    "moneySpent[\"gender\"] = moneySpent[\"gender\"].replace(\"O\", True)\n",
    "moneySpent[\"gender\"] = moneySpent[\"gender\"].fillna(False)\n",
    "moneySpent[\"gender\"] = moneySpent[\"gender\"].astype(bool)\n",
    "\n",
    "#drop rows with no income\n",
    "moneySpent = moneySpent.dropna(subset=[\"income\"])\n",
    "\n",
    "del moneySpent[\"person\"]\n",
    "moneySpent = moneySpent.reset_index()\n",
    "\n",
    "#cleaning is done, time to implement knn\n"
   ]
  },
  {
   "cell_type": "code",
   "execution_count": null,
   "id": "a529bd87-7ed7-4e85-b275-5020c044af2f",
   "metadata": {},
   "outputs": [
    {
     "data": {
      "text/plain": [
       "[         index  value  age    income  gender  F  M  O\n",
       " 51976    51976   5.21   62   37000.0    True  0  1  0\n",
       " 57928    57928  16.43   69   72000.0    True  0  1  0\n",
       " 44139    44139  19.54   38   87000.0    True  1  0  0\n",
       " 44834    44834   3.48   27   59000.0    True  0  1  0\n",
       " 110999  110999  17.53   87   89000.0    True  1  0  0\n",
       " ...        ...    ...  ...       ...     ... .. .. ..\n",
       " 62058    62058  23.82   79  113000.0    True  0  1  0\n",
       " 93356    93356  29.17   84  106000.0    True  1  0  0\n",
       " 33505    33505  20.55   70  114000.0    True  1  0  0\n",
       " 44096    44096   7.70   60   36000.0    True  1  0  0\n",
       " 66747    66747   2.46   20   49000.0    True  0  1  0\n",
       " \n",
       " [24792 rows x 8 columns]]"
      ]
     },
     "metadata": {},
     "output_type": "display_data"
    },
    {
     "data": {
      "text/plain": [
       "'x_test = test.drop(\"value\", axis=1)\\ny_test = test[\"value\"]\\n\\nscaler = MinMaxScaler(feature_range=(0, 1))\\n\\nx_train_scaled = scaler.fit_transform(x_train)\\nx_train = pd.DataFrame(x_train_scaled)\\n\\nx_test_scaled = scaler.fit_transform(x_test)\\nx_test = pd.DataFrame(x_test_scaled)\\n\\nrmse_val = [] \\nfor K in range(10):\\n    K = K+1\\n    model = neighbors.KNeighborsRegressor(n_neighbors = K)\\n\\n    model.fit(x_train, y_train)  #fit the model\\n    pred=model.predict(x_test) #make prediction on test set\\n    error = sqrt(mean_squared_error(y_test,pred)) #calculate rmse\\n    rmse_val.append(error) #store rmse values\\n    \\n'"
      ]
     },
     "execution_count": 80,
     "metadata": {},
     "output_type": "execute_result"
    }
   ],
   "source": [
    "from sklearn.model_selection import train_test_split\n",
    "from sklearn.preprocessing import MinMaxScaler\n",
    "from sklearn import neighbors\n",
    "from sklearn.metrics import mean_squared_error\n",
    "from math import sqrt\n",
    "%matplotlib inline\n",
    "\n",
    "train = train_test_split(moneySpent, test_size=0.2)\n",
    "test = train_test_split(moneySpent, test_size=0.2)\n",
    "\n",
    "del train[0]\n",
    "display(train)\n",
    "#y_train = train[\"value\"]\n",
    "\n",
    "#x_train = train.drop(\"value\", axis=1)\n",
    "\n",
    "'''x_test = test.drop(\"value\", axis=1)\n",
    "y_test = test[\"value\"]\n",
    "\n",
    "scaler = MinMaxScaler(feature_range=(0, 1))\n",
    "\n",
    "x_train_scaled = scaler.fit_transform(x_train)\n",
    "x_train = pd.DataFrame(x_train_scaled)\n",
    "\n",
    "x_test_scaled = scaler.fit_transform(x_test)\n",
    "x_test = pd.DataFrame(x_test_scaled)\n",
    "\n",
    "rmse_val = [] \n",
    "for K in range(10):\n",
    "    K = K+1\n",
    "    model = neighbors.KNeighborsRegressor(n_neighbors = K)\n",
    "\n",
    "    model.fit(x_train, y_train)  #fit the model\n",
    "    pred=model.predict(x_test) #make prediction on test set\n",
    "    error = sqrt(mean_squared_error(y_test,pred)) #calculate rmse\n",
    "    rmse_val.append(error) #store rmse values\n",
    "    \n",
    "'''\n"
   ]
  },
  {
   "cell_type": "code",
   "execution_count": null,
   "id": "6e67ccb5-b29b-436f-ab52-1c2a1010de72",
   "metadata": {},
   "outputs": [],
   "source": []
  }
 ],
 "metadata": {
  "interpreter": {
   "hash": "aee8b7b246df8f9039afb4144a1f6fd8d2ca17a180786b69acc140d282b71a49"
  },
  "kernelspec": {
   "display_name": "Python 3.9.13 64-bit",
   "language": "python",
   "name": "python3"
  },
  "language_info": {
   "codemirror_mode": {
    "name": "ipython",
    "version": 3
   },
   "file_extension": ".py",
   "mimetype": "text/x-python",
   "name": "python",
   "nbconvert_exporter": "python",
   "pygments_lexer": "ipython3",
   "version": "3.9.13"
  }
 },
 "nbformat": 4,
 "nbformat_minor": 5
}
