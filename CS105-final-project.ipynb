{
 "cells": [
  {
   "cell_type": "markdown",
   "id": "985e3554",
   "metadata": {},
   "source": [
    "\n"
   ]
  },
  {
   "cell_type": "markdown",
   "id": "1a498781",
   "metadata": {},
   "source": [
    "We have combed through the scientific data and predictions we will be comparing our Starbucks Customer data.\n",
    "\n",
    "We decided to first clean the data. There were lots of missing values(NaN). Since most of the values were around the same, we decided to just fill the NaN values with the mean values. Next we analyzed the dataset by using a histogram, scatterplots, joint plots, and a boxplot.\n"
   ]
  },
  {
   "cell_type": "code",
   "execution_count": 1,
   "id": "52c1bca5",
   "metadata": {},
   "outputs": [
    {
     "name": "stdout",
     "output_type": "stream",
     "text": [
      "Requirement already satisfied: seaborn in c:\\users\\surab\\anaconda3\\lib\\site-packages (0.11.2)\n",
      "Requirement already satisfied: pandas>=0.23 in c:\\users\\surab\\anaconda3\\lib\\site-packages (from seaborn) (1.3.4)\n",
      "Requirement already satisfied: matplotlib>=2.2 in c:\\users\\surab\\anaconda3\\lib\\site-packages (from seaborn) (3.4.3)\n",
      "Requirement already satisfied: numpy>=1.15 in c:\\users\\surab\\anaconda3\\lib\\site-packages (from seaborn) (1.20.3)\n",
      "Requirement already satisfied: scipy>=1.0 in c:\\users\\surab\\anaconda3\\lib\\site-packages (from seaborn) (1.7.1)\n",
      "Requirement already satisfied: cycler>=0.10 in c:\\users\\surab\\anaconda3\\lib\\site-packages (from matplotlib>=2.2->seaborn) (0.10.0)\n",
      "Requirement already satisfied: kiwisolver>=1.0.1 in c:\\users\\surab\\anaconda3\\lib\\site-packages (from matplotlib>=2.2->seaborn) (1.3.1)\n",
      "Requirement already satisfied: python-dateutil>=2.7 in c:\\users\\surab\\anaconda3\\lib\\site-packages (from matplotlib>=2.2->seaborn) (2.8.2)\n",
      "Requirement already satisfied: pillow>=6.2.0 in c:\\users\\surab\\anaconda3\\lib\\site-packages (from matplotlib>=2.2->seaborn) (8.4.0)\n",
      "Requirement already satisfied: pyparsing>=2.2.1 in c:\\users\\surab\\anaconda3\\lib\\site-packages (from matplotlib>=2.2->seaborn) (3.0.4)\n",
      "Requirement already satisfied: six in c:\\users\\surab\\anaconda3\\lib\\site-packages (from cycler>=0.10->matplotlib>=2.2->seaborn) (1.16.0)\n",
      "Requirement already satisfied: pytz>=2017.3 in c:\\users\\surab\\anaconda3\\lib\\site-packages (from pandas>=0.23->seaborn) (2021.3)\n",
      "Note: you may need to restart the kernel to use updated packages.\n"
     ]
    }
   ],
   "source": [
    "pip install -U seaborn"
   ]
  },
  {
   "cell_type": "code",
   "execution_count": 2,
   "id": "5f9438fa",
   "metadata": {},
   "outputs": [
    {
     "data": {
      "text/html": [
       "<div>\n",
       "<style scoped>\n",
       "    .dataframe tbody tr th:only-of-type {\n",
       "        vertical-align: middle;\n",
       "    }\n",
       "\n",
       "    .dataframe tbody tr th {\n",
       "        vertical-align: top;\n",
       "    }\n",
       "\n",
       "    .dataframe thead th {\n",
       "        text-align: right;\n",
       "    }\n",
       "</style>\n",
       "<table border=\"1\" class=\"dataframe\">\n",
       "  <thead>\n",
       "    <tr style=\"text-align: right;\">\n",
       "      <th></th>\n",
       "      <th>Unnamed: 0</th>\n",
       "      <th>person</th>\n",
       "      <th>event</th>\n",
       "      <th>value</th>\n",
       "      <th>time</th>\n",
       "    </tr>\n",
       "  </thead>\n",
       "  <tbody>\n",
       "    <tr>\n",
       "      <th>0</th>\n",
       "      <td>0</td>\n",
       "      <td>78afa995795e4d85b5d9ceeca43f5fef</td>\n",
       "      <td>offer received</td>\n",
       "      <td>{'offer id': '9b98b8c7a33c4b65b9aebfe6a799e6d9'}</td>\n",
       "      <td>0</td>\n",
       "    </tr>\n",
       "    <tr>\n",
       "      <th>1</th>\n",
       "      <td>1</td>\n",
       "      <td>a03223e636434f42ac4c3df47e8bac43</td>\n",
       "      <td>offer received</td>\n",
       "      <td>{'offer id': '0b1e1539f2cc45b7b9fa7c272da2e1d7'}</td>\n",
       "      <td>0</td>\n",
       "    </tr>\n",
       "    <tr>\n",
       "      <th>2</th>\n",
       "      <td>2</td>\n",
       "      <td>e2127556f4f64592b11af22de27a7932</td>\n",
       "      <td>offer received</td>\n",
       "      <td>{'offer id': '2906b810c7d4411798c6938adc9daaa5'}</td>\n",
       "      <td>0</td>\n",
       "    </tr>\n",
       "    <tr>\n",
       "      <th>3</th>\n",
       "      <td>3</td>\n",
       "      <td>8ec6ce2a7e7949b1bf142def7d0e0586</td>\n",
       "      <td>offer received</td>\n",
       "      <td>{'offer id': 'fafdcd668e3743c1bb461111dcafc2a4'}</td>\n",
       "      <td>0</td>\n",
       "    </tr>\n",
       "    <tr>\n",
       "      <th>4</th>\n",
       "      <td>4</td>\n",
       "      <td>68617ca6246f4fbc85e91a2a49552598</td>\n",
       "      <td>offer received</td>\n",
       "      <td>{'offer id': '4d5c57ea9a6940dd891ad53e9dbe8da0'}</td>\n",
       "      <td>0</td>\n",
       "    </tr>\n",
       "    <tr>\n",
       "      <th>...</th>\n",
       "      <td>...</td>\n",
       "      <td>...</td>\n",
       "      <td>...</td>\n",
       "      <td>...</td>\n",
       "      <td>...</td>\n",
       "    </tr>\n",
       "    <tr>\n",
       "      <th>306529</th>\n",
       "      <td>306529</td>\n",
       "      <td>b3a1272bc9904337b331bf348c3e8c17</td>\n",
       "      <td>transaction</td>\n",
       "      <td>{'amount': 1.5899999999999999}</td>\n",
       "      <td>714</td>\n",
       "    </tr>\n",
       "    <tr>\n",
       "      <th>306530</th>\n",
       "      <td>306530</td>\n",
       "      <td>68213b08d99a4ae1b0dcb72aebd9aa35</td>\n",
       "      <td>transaction</td>\n",
       "      <td>{'amount': 9.53}</td>\n",
       "      <td>714</td>\n",
       "    </tr>\n",
       "    <tr>\n",
       "      <th>306531</th>\n",
       "      <td>306531</td>\n",
       "      <td>a00058cf10334a308c68e7631c529907</td>\n",
       "      <td>transaction</td>\n",
       "      <td>{'amount': 3.61}</td>\n",
       "      <td>714</td>\n",
       "    </tr>\n",
       "    <tr>\n",
       "      <th>306532</th>\n",
       "      <td>306532</td>\n",
       "      <td>76ddbd6576844afe811f1a3c0fbb5bec</td>\n",
       "      <td>transaction</td>\n",
       "      <td>{'amount': 3.5300000000000002}</td>\n",
       "      <td>714</td>\n",
       "    </tr>\n",
       "    <tr>\n",
       "      <th>306533</th>\n",
       "      <td>306533</td>\n",
       "      <td>c02b10e8752c4d8e9b73f918558531f7</td>\n",
       "      <td>transaction</td>\n",
       "      <td>{'amount': 4.05}</td>\n",
       "      <td>714</td>\n",
       "    </tr>\n",
       "  </tbody>\n",
       "</table>\n",
       "<p>306534 rows × 5 columns</p>\n",
       "</div>"
      ],
      "text/plain": [
       "        Unnamed: 0                            person           event  \\\n",
       "0                0  78afa995795e4d85b5d9ceeca43f5fef  offer received   \n",
       "1                1  a03223e636434f42ac4c3df47e8bac43  offer received   \n",
       "2                2  e2127556f4f64592b11af22de27a7932  offer received   \n",
       "3                3  8ec6ce2a7e7949b1bf142def7d0e0586  offer received   \n",
       "4                4  68617ca6246f4fbc85e91a2a49552598  offer received   \n",
       "...            ...                               ...             ...   \n",
       "306529      306529  b3a1272bc9904337b331bf348c3e8c17     transaction   \n",
       "306530      306530  68213b08d99a4ae1b0dcb72aebd9aa35     transaction   \n",
       "306531      306531  a00058cf10334a308c68e7631c529907     transaction   \n",
       "306532      306532  76ddbd6576844afe811f1a3c0fbb5bec     transaction   \n",
       "306533      306533  c02b10e8752c4d8e9b73f918558531f7     transaction   \n",
       "\n",
       "                                                   value  time  \n",
       "0       {'offer id': '9b98b8c7a33c4b65b9aebfe6a799e6d9'}     0  \n",
       "1       {'offer id': '0b1e1539f2cc45b7b9fa7c272da2e1d7'}     0  \n",
       "2       {'offer id': '2906b810c7d4411798c6938adc9daaa5'}     0  \n",
       "3       {'offer id': 'fafdcd668e3743c1bb461111dcafc2a4'}     0  \n",
       "4       {'offer id': '4d5c57ea9a6940dd891ad53e9dbe8da0'}     0  \n",
       "...                                                  ...   ...  \n",
       "306529                    {'amount': 1.5899999999999999}   714  \n",
       "306530                                  {'amount': 9.53}   714  \n",
       "306531                                  {'amount': 3.61}   714  \n",
       "306532                    {'amount': 3.5300000000000002}   714  \n",
       "306533                                  {'amount': 4.05}   714  \n",
       "\n",
       "[306534 rows x 5 columns]"
      ]
     },
     "execution_count": 2,
     "metadata": {},
     "output_type": "execute_result"
    },
    {
     "data": {
      "image/png": "[encoded data removed]",
      "text/plain": [
       "<Figure size 432x288 with 1 Axes>"
      ]
     },
     "metadata": {},
     "output_type": "display_data"
    }
   ],
   "source": [
    "import pandas as pd\n",
    "import numpy as np\n",
    "import matplotlib.pyplot as plt\n",
    "import seaborn as sns\n",
    "import sklearn\n",
    "\n",
    "port = pd.read_csv(\"portfolio.csv\")\n",
    "trans = pd.read_csv(\"transcript.csv\")\n",
    "prof = pd.read_csv(\"profile.csv\")\n",
    "trans\n",
    "\n",
    "trans2 = trans.copy()\n",
    "trans2[\"sum\"] = 1\n",
    "fi, ax = plt.subplots()\n",
    "trans2_plot = trans2.groupby(\"event\").sum()[\"sum\"].plot.pie(autopct='%.0f%%')\n",
    "trans2_plot\n",
    "trans\n"
   ]
  },
  {
   "cell_type": "markdown",
   "id": "1f7042e9",
   "metadata": {},
   "source": [
    "Predicting how much a customer will spend (based on the age, income, and sex):"
   ]
  },
  {
   "cell_type": "code",
   "execution_count": 3,
   "id": "391dc01c",
   "metadata": {},
   "outputs": [
    {
     "data": {
      "text/html": [
       "<div>\n",
       "<style scoped>\n",
       "    .dataframe tbody tr th:only-of-type {\n",
       "        vertical-align: middle;\n",
       "    }\n",
       "\n",
       "    .dataframe tbody tr th {\n",
       "        vertical-align: top;\n",
       "    }\n",
       "\n",
       "    .dataframe thead th {\n",
       "        text-align: right;\n",
       "    }\n",
       "</style>\n",
       "<table border=\"1\" class=\"dataframe\">\n",
       "  <thead>\n",
       "    <tr style=\"text-align: right;\">\n",
       "      <th></th>\n",
       "      <th>index</th>\n",
       "      <th>value</th>\n",
       "      <th>age</th>\n",
       "      <th>income</th>\n",
       "      <th>gender</th>\n",
       "    </tr>\n",
       "  </thead>\n",
       "  <tbody>\n",
       "    <tr>\n",
       "      <th>0</th>\n",
       "      <td>0</td>\n",
       "      <td>9b98b8c7a33c4b65b9aebfe6a799e6d9</td>\n",
       "      <td>75</td>\n",
       "      <td>100000.0</td>\n",
       "      <td>F</td>\n",
       "    </tr>\n",
       "    <tr>\n",
       "      <th>1</th>\n",
       "      <td>1</td>\n",
       "      <td>9b98b8c7a33c4b65b9aebfe6a799e6d9</td>\n",
       "      <td>75</td>\n",
       "      <td>100000.0</td>\n",
       "      <td>F</td>\n",
       "    </tr>\n",
       "    <tr>\n",
       "      <th>2</th>\n",
       "      <td>2</td>\n",
       "      <td>19.89</td>\n",
       "      <td>75</td>\n",
       "      <td>100000.0</td>\n",
       "      <td>F</td>\n",
       "    </tr>\n",
       "    <tr>\n",
       "      <th>3</th>\n",
       "      <td>3</td>\n",
       "      <td>9b98b8c7a33c4b65b9aebfe6a799e6d9, reward 5</td>\n",
       "      <td>75</td>\n",
       "      <td>100000.0</td>\n",
       "      <td>F</td>\n",
       "    </tr>\n",
       "    <tr>\n",
       "      <th>4</th>\n",
       "      <td>4</td>\n",
       "      <td>17.78</td>\n",
       "      <td>75</td>\n",
       "      <td>100000.0</td>\n",
       "      <td>F</td>\n",
       "    </tr>\n",
       "    <tr>\n",
       "      <th>...</th>\n",
       "      <td>...</td>\n",
       "      <td>...</td>\n",
       "      <td>...</td>\n",
       "      <td>...</td>\n",
       "      <td>...</td>\n",
       "    </tr>\n",
       "    <tr>\n",
       "      <th>306521</th>\n",
       "      <td>306521</td>\n",
       "      <td>3f207df678b143eea3cee63160fa8bed</td>\n",
       "      <td>47</td>\n",
       "      <td>94000.0</td>\n",
       "      <td>M</td>\n",
       "    </tr>\n",
       "    <tr>\n",
       "      <th>306522</th>\n",
       "      <td>306522</td>\n",
       "      <td>4d5c57ea9a6940dd891ad53e9dbe8da0</td>\n",
       "      <td>47</td>\n",
       "      <td>94000.0</td>\n",
       "      <td>M</td>\n",
       "    </tr>\n",
       "    <tr>\n",
       "      <th>306523</th>\n",
       "      <td>306523</td>\n",
       "      <td>4d5c57ea9a6940dd891ad53e9dbe8da0</td>\n",
       "      <td>47</td>\n",
       "      <td>94000.0</td>\n",
       "      <td>M</td>\n",
       "    </tr>\n",
       "    <tr>\n",
       "      <th>306531</th>\n",
       "      <td>306531</td>\n",
       "      <td>4d5c57ea9a6940dd891ad53e9dbe8da0</td>\n",
       "      <td>58</td>\n",
       "      <td>78000.0</td>\n",
       "      <td>F</td>\n",
       "    </tr>\n",
       "    <tr>\n",
       "      <th>306532</th>\n",
       "      <td>306532</td>\n",
       "      <td>4d5c57ea9a6940dd891ad53e9dbe8da0</td>\n",
       "      <td>58</td>\n",
       "      <td>78000.0</td>\n",
       "      <td>F</td>\n",
       "    </tr>\n",
       "  </tbody>\n",
       "</table>\n",
       "<p>272762 rows × 5 columns</p>\n",
       "</div>"
      ],
      "text/plain": [
       "         index                                        value  age    income  \\\n",
       "0            0             9b98b8c7a33c4b65b9aebfe6a799e6d9   75  100000.0   \n",
       "1            1             9b98b8c7a33c4b65b9aebfe6a799e6d9   75  100000.0   \n",
       "2            2                                        19.89   75  100000.0   \n",
       "3            3   9b98b8c7a33c4b65b9aebfe6a799e6d9, reward 5   75  100000.0   \n",
       "4            4                                        17.78   75  100000.0   \n",
       "...        ...                                          ...  ...       ...   \n",
       "306521  306521             3f207df678b143eea3cee63160fa8bed   47   94000.0   \n",
       "306522  306522             4d5c57ea9a6940dd891ad53e9dbe8da0   47   94000.0   \n",
       "306523  306523             4d5c57ea9a6940dd891ad53e9dbe8da0   47   94000.0   \n",
       "306531  306531             4d5c57ea9a6940dd891ad53e9dbe8da0   58   78000.0   \n",
       "306532  306532             4d5c57ea9a6940dd891ad53e9dbe8da0   58   78000.0   \n",
       "\n",
       "       gender  \n",
       "0           F  \n",
       "1           F  \n",
       "2           F  \n",
       "3           F  \n",
       "4           F  \n",
       "...       ...  \n",
       "306521      M  \n",
       "306522      M  \n",
       "306523      M  \n",
       "306531      F  \n",
       "306532      F  \n",
       "\n",
       "[272762 rows x 5 columns]"
      ]
     },
     "execution_count": 3,
     "metadata": {},
     "output_type": "execute_result"
    }
   ],
   "source": [
    "#since we are predciting transactions, we seperate the transactions from the rest of the dataset\n",
    "df = trans.copy().reset_index()\n",
    "\n",
    "#merge profile and transcript by customer id so that we have demographics of each person who made a transaction\n",
    "df = df.merge(prof, left_on=\"person\", right_on=\"id\")[\n",
    "    [\"person\", \"value\", \"age\", \"income\", \"gender\"]]\n",
    "df[\"value\"] = df[\"value\"].str.replace(\"{\", \"\", regex=True)\n",
    "df[\"value\"] = df[\"value\"].str.replace(\"}\", \"\", regex=True)\n",
    "df[\"value\"] = df[\"value\"].str.replace(\"amount\", \"\", regex=True)\n",
    "df[\"value\"] = df[\"value\"].str.replace(\"id\", \"\", regex=True)\n",
    "\n",
    "df[\"value\"] = df[\"value\"].str.replace(\"offer\", \"\", regex=True)\n",
    "df[\"value\"] = df[\"value\"].str.replace(\":\", \"\", regex=True)\n",
    "df[\"value\"] = df[\"value\"].str.replace(\"'\", \"\", regex=True)\n",
    "df[\"value\"] = df[\"value\"].str.replace(\"_\", \"\", regex=True)\n",
    "\n",
    "\n",
    "del df[\"person\"]\n",
    "df = df.reset_index()\n",
    "\n",
    "df.dropna()\n",
    "\n",
    "#cleaning is done, time to implement knn\n",
    "\n"
   ]
  },
  {
   "cell_type": "markdown",
   "id": "d4a8e87d",
   "metadata": {},
   "source": [
    "We will first analyse the AGE DISTRIBUTION of the Starbucks customers using the 'age' column from 'profile'"
   ]
  },
  {
   "cell_type": "code",
   "execution_count": 4,
   "id": "1a1de8bd",
   "metadata": {},
   "outputs": [
    {
     "data": {
      "image/png": "[encoded data removed]",
      "text/plain": [
       "<Figure size 432x288 with 1 Axes>"
      ]
     },
     "metadata": {
      "needs_background": "light"
     },
     "output_type": "display_data"
    }
   ],
   "source": [
    "import pandas as pd\n",
    "import numpy as np\n",
    "from scipy.stats import chi2_contingency\n",
    "import seaborn as sns\n",
    "import matplotlib.pyplot as plt\n",
    "import warnings\n",
    "warnings.filterwarnings('ignore')\n",
    "%matplotlib inline\n",
    "\n",
    "\n",
    "pd.set_option('mode.chained_assignment',  None)\n",
    "pd.set_option('display.max_columns', None)\n",
    "\n",
    "\n",
    "prof = prof = pd.read_csv(\"profile.csv\")\n",
    "prof.head()\n",
    "\n",
    "#there are some null values in the 'profile'.\n",
    "prof.isna().sum()\n",
    "\n",
    "sns.histplot(data=prof, x='age')\n",
    "plt.show()"
   ]
  },
  {
   "cell_type": "markdown",
   "id": "5692a68e",
   "metadata": {},
   "source": [
    "Here we see a higher number of unsually high (or old) aged people in our 'profile' data set. \n",
    "\n",
    "We will now take a closer look and check the statistical information of 'profile'"
   ]
  },
  {
   "cell_type": "code",
   "execution_count": 5,
   "id": "ea118bb7",
   "metadata": {},
   "outputs": [
    {
     "data": {
      "text/plain": [
       "count    17000.000000\n",
       "mean        62.531412\n",
       "std         26.738580\n",
       "min         18.000000\n",
       "25%         45.000000\n",
       "50%         58.000000\n",
       "75%         73.000000\n",
       "max        118.000000\n",
       "Name: age, dtype: float64"
      ]
     },
     "execution_count": 5,
     "metadata": {},
     "output_type": "execute_result"
    }
   ],
   "source": [
    "prof['age'].describe()"
   ]
  },
  {
   "cell_type": "markdown",
   "id": "8dfe6331",
   "metadata": {},
   "source": [
    "We were able to find that the suspicious high age seems to be 118 years old.\n",
    "\n",
    "Interestingly, the customers who have suspiciously high age also have the null value in 'gender' and 'income'.\n",
    "This means it is natural that weremove them from the original 'profile' for the future.\n",
    "\n",
    "So, the cleaned 'profile' looks like this:"
   ]
  },
  {
   "cell_type": "code",
   "execution_count": 6,
   "id": "d363e10f",
   "metadata": {},
   "outputs": [
    {
     "data": {
      "text/html": [
       "<div>\n",
       "<style scoped>\n",
       "    .dataframe tbody tr th:only-of-type {\n",
       "        vertical-align: middle;\n",
       "    }\n",
       "\n",
       "    .dataframe tbody tr th {\n",
       "        vertical-align: top;\n",
       "    }\n",
       "\n",
       "    .dataframe thead th {\n",
       "        text-align: right;\n",
       "    }\n",
       "</style>\n",
       "<table border=\"1\" class=\"dataframe\">\n",
       "  <thead>\n",
       "    <tr style=\"text-align: right;\">\n",
       "      <th></th>\n",
       "      <th>Unnamed: 0</th>\n",
       "      <th>gender</th>\n",
       "      <th>age</th>\n",
       "      <th>id</th>\n",
       "      <th>became_member_on</th>\n",
       "      <th>income</th>\n",
       "    </tr>\n",
       "  </thead>\n",
       "  <tbody>\n",
       "    <tr>\n",
       "      <th>1</th>\n",
       "      <td>1</td>\n",
       "      <td>F</td>\n",
       "      <td>55</td>\n",
       "      <td>0610b486422d4921ae7d2bf64640c50b</td>\n",
       "      <td>20170715</td>\n",
       "      <td>112000.0</td>\n",
       "    </tr>\n",
       "    <tr>\n",
       "      <th>3</th>\n",
       "      <td>3</td>\n",
       "      <td>F</td>\n",
       "      <td>75</td>\n",
       "      <td>78afa995795e4d85b5d9ceeca43f5fef</td>\n",
       "      <td>20170509</td>\n",
       "      <td>100000.0</td>\n",
       "    </tr>\n",
       "    <tr>\n",
       "      <th>5</th>\n",
       "      <td>5</td>\n",
       "      <td>M</td>\n",
       "      <td>68</td>\n",
       "      <td>e2127556f4f64592b11af22de27a7932</td>\n",
       "      <td>20180426</td>\n",
       "      <td>70000.0</td>\n",
       "    </tr>\n",
       "    <tr>\n",
       "      <th>8</th>\n",
       "      <td>8</td>\n",
       "      <td>M</td>\n",
       "      <td>65</td>\n",
       "      <td>389bc3fa690240e798340f5a15918d5c</td>\n",
       "      <td>20180209</td>\n",
       "      <td>53000.0</td>\n",
       "    </tr>\n",
       "    <tr>\n",
       "      <th>12</th>\n",
       "      <td>12</td>\n",
       "      <td>M</td>\n",
       "      <td>58</td>\n",
       "      <td>2eeac8d8feae4a8cad5a6af0499a211d</td>\n",
       "      <td>20171111</td>\n",
       "      <td>51000.0</td>\n",
       "    </tr>\n",
       "  </tbody>\n",
       "</table>\n",
       "</div>"
      ],
      "text/plain": [
       "    Unnamed: 0 gender  age                                id  \\\n",
       "1            1      F   55  0610b486422d4921ae7d2bf64640c50b   \n",
       "3            3      F   75  78afa995795e4d85b5d9ceeca43f5fef   \n",
       "5            5      M   68  e2127556f4f64592b11af22de27a7932   \n",
       "8            8      M   65  389bc3fa690240e798340f5a15918d5c   \n",
       "12          12      M   58  2eeac8d8feae4a8cad5a6af0499a211d   \n",
       "\n",
       "    became_member_on    income  \n",
       "1           20170715  112000.0  \n",
       "3           20170509  100000.0  \n",
       "5           20180426   70000.0  \n",
       "8           20180209   53000.0  \n",
       "12          20171111   51000.0  "
      ]
     },
     "execution_count": 6,
     "metadata": {},
     "output_type": "execute_result"
    }
   ],
   "source": [
    "prof = prof.dropna()\n",
    "prof.head()"
   ]
  },
  {
   "cell_type": "markdown",
   "id": "46ca426e",
   "metadata": {},
   "source": [
    "Now we will find the GENDER DISTRIBUTION using the column 'gender' in the 'profile'.\n",
    "\n",
    "First, we will observe the gender count then proceed to the proportion. "
   ]
  },
  {
   "cell_type": "code",
   "execution_count": 7,
   "id": "0d12fe48",
   "metadata": {},
   "outputs": [
    {
     "data": {
      "image/png": "[encoded data removed]",
      "text/plain": [
       "<Figure size 432x288 with 1 Axes>"
      ]
     },
     "metadata": {
      "needs_background": "light"
     },
     "output_type": "display_data"
    }
   ],
   "source": [
    "#drop unnamed:0 column from all dataframes\n",
    "#prof.drop('Unnamed: 0', axis=1, inplace=True)\n",
    "#sns.countplot(prof['gender'])\n",
    "\n",
    "#see gender count\n",
    "\n",
    "sns.barplot(x=prof['gender'].value_counts().index, y=prof['gender'].value_counts())\n",
    "plt.title('Gender Distribution - Count')\n",
    "plt.xlabel('Gender')\n",
    "plt.ylabel('Amount')\n",
    "plt.show()\n",
    "\n"
   ]
  },
  {
   "cell_type": "code",
   "execution_count": 8,
   "id": "6d4385a5",
   "metadata": {},
   "outputs": [
    {
     "data": {
      "image/png": "[encoded data removed]",
      "text/plain": [
       "<Figure size 432x288 with 1 Axes>"
      ]
     },
     "metadata": {
      "needs_background": "light"
     },
     "output_type": "display_data"
    }
   ],
   "source": [
    "#see proportion of genders\n",
    "sns.barplot(x=prof['gender'].value_counts().index, y=prof['gender'].value_counts(normalize=True))\n",
    "plt.title('Gender Distribution - Proportion')\n",
    "plt.xlabel('Gender')\n",
    "plt.ylabel('Proportion')\n",
    "plt.show()"
   ]
  },
  {
   "cell_type": "markdown",
   "id": "efade4b6",
   "metadata": {},
   "source": [
    "From the variable description, some entries contain 'O' for other rather than 'M' or 'F'.\n",
    "The gender distirbution is like above, the customers consists of about 57% of male, 40% of female and 3% of the 3rd other sex. \n",
    "So, it looks like there are more male Starbucks customers than female Starbucks customers."
   ]
  },
  {
   "cell_type": "markdown",
   "id": "033b3202",
   "metadata": {},
   "source": [
    "Now we will analyze the income dsitribution by using the 'income column' in the 'profile'.\n",
    "\n",
    "Recall that all the missing income were from the 'other' group, because I made every person with no gender as 'other'.\n",
    "\n",
    "First, we will plot a box plot chart to give us an indication of how spread out the values in the data are. "
   ]
  },
  {
   "cell_type": "code",
   "execution_count": 9,
   "id": "c889d82c",
   "metadata": {},
   "outputs": [
    {
     "data": {
      "text/plain": [
       "Text(0.5, 1.0, 'Customer Income Spread')"
      ]
     },
     "execution_count": 9,
     "metadata": {},
     "output_type": "execute_result"
    },
    {
     "data": {
      "image/png": "[encoded data removed]",
      "text/plain": [
       "<Figure size 432x288 with 1 Axes>"
      ]
     },
     "metadata": {
      "needs_background": "light"
     },
     "output_type": "display_data"
    }
   ],
   "source": [
    "sns.boxplot(data=prof, x='income')\n",
    "plt.title('Customer Income Spread')"
   ]
  },
  {
   "cell_type": "markdown",
   "id": "00fd064f",
   "metadata": {},
   "source": [
    "Next, "
   ]
  },
  {
   "cell_type": "code",
   "execution_count": 10,
   "id": "885f62d5",
   "metadata": {},
   "outputs": [
    {
     "data": {
      "text/plain": [
       "Text(0.5, 1.0, 'Income per gender')"
      ]
     },
     "execution_count": 10,
     "metadata": {},
     "output_type": "execute_result"
    },
    {
     "data": {
      "image/png": "[encoded data removed]",
      "text/plain": [
       "<Figure size 404.625x360 with 1 Axes>"
      ]
     },
     "metadata": {
      "needs_background": "light"
     },
     "output_type": "display_data"
    }
   ],
   "source": [
    "sns.displot(prof, x='income', hue='gender', bins=30)\n",
    "plt.title('Income per gender')"
   ]
  },
  {
   "cell_type": "code",
   "execution_count": 11,
   "id": "d0caa222",
   "metadata": {},
   "outputs": [
    {
     "data": {
      "text/plain": [
       "Text(0, 0.5, 'Income Amount (* 1e8)')"
      ]
     },
     "execution_count": 11,
     "metadata": {},
     "output_type": "execute_result"
    },
    {
     "data": {
      "image/png": "[encoded data removed]",
      "text/plain": [
       "<Figure size 432x288 with 1 Axes>"
      ]
     },
     "metadata": {
      "needs_background": "light"
     },
     "output_type": "display_data"
    }
   ],
   "source": [
    "prof.groupby('gender').sum()['income'].plot(kind='bar')\n",
    "plt.title('Total income per gender')\n",
    "plt.ylabel('Income Amount (* 1e8)')"
   ]
  },
  {
   "cell_type": "markdown",
   "id": "f34fa96d",
   "metadata": {},
   "source": [
    "From these two charts, we can see that the total income for males is higher, despite the number of females in the higher income (75k or more) are greater than males.\n",
    "\n",
    "Now, we will create a new 'log_income' column to use for comparison implenting log implemtation (log base 10) and plot the histogram.\n",
    "And to finish off, we will also calculate the average mean income and median income for all customers, regardless of gender."
   ]
  },
  {
   "cell_type": "code",
   "execution_count": 12,
   "id": "4c1ae19d",
   "metadata": {},
   "outputs": [
    {
     "data": {
      "image/png": "[encoded data removed]",
      "text/plain": [
       "<Figure size 1080x360 with 2 Axes>"
      ]
     },
     "metadata": {
      "needs_background": "light"
     },
     "output_type": "display_data"
    },
    {
     "name": "stdout",
     "output_type": "stream",
     "text": [
      "Average income is: $65404.992\n",
      "Median income is: $64000.0\n"
     ]
    }
   ],
   "source": [
    "prof['log_income'] = prof['income'].apply(np.log10)\n",
    "\n",
    "fig, axes = plt.subplots(1, 2, figsize=(15, 5))\n",
    "\n",
    "for i, col in enumerate(['income', 'log_income']):\n",
    "    sns.histplot(ax=axes[i], data=prof, x=col, kde=True)\n",
    "\n",
    "axes[0].set_title('Income Distribution')\n",
    "axes[1].set_title('Income Distribution - Log Transformation')\n",
    "plt.show()\n",
    "\n",
    "print('Average income is: ${}'.format(round(prof['income'].mean(), 3)))\n",
    "print('Median income is: ${}'.format(prof['income'].median()))\n"
   ]
  },
  {
   "cell_type": "markdown",
   "id": "ec6bb664",
   "metadata": {},
   "source": [
    "Now we will find the average PURCHASE DISTRIBUTION. \n",
    "\n",
    "To accomplish this, we first need to merge 'profile' and 'transcript' data sets."
   ]
  },
  {
   "cell_type": "code",
   "execution_count": 13,
   "id": "243cb241",
   "metadata": {},
   "outputs": [
    {
     "data": {
      "text/html": [
       "<div>\n",
       "<style scoped>\n",
       "    .dataframe tbody tr th:only-of-type {\n",
       "        vertical-align: middle;\n",
       "    }\n",
       "\n",
       "    .dataframe tbody tr th {\n",
       "        vertical-align: top;\n",
       "    }\n",
       "\n",
       "    .dataframe thead th {\n",
       "        text-align: right;\n",
       "    }\n",
       "</style>\n",
       "<table border=\"1\" class=\"dataframe\">\n",
       "  <thead>\n",
       "    <tr style=\"text-align: right;\">\n",
       "      <th></th>\n",
       "      <th>Unnamed: 0_x</th>\n",
       "      <th>gender</th>\n",
       "      <th>age</th>\n",
       "      <th>id</th>\n",
       "      <th>became_member_on</th>\n",
       "      <th>income</th>\n",
       "      <th>log_income</th>\n",
       "      <th>Unnamed: 0_y</th>\n",
       "      <th>person</th>\n",
       "      <th>event</th>\n",
       "      <th>value</th>\n",
       "      <th>time</th>\n",
       "    </tr>\n",
       "  </thead>\n",
       "  <tbody>\n",
       "    <tr>\n",
       "      <th>0</th>\n",
       "      <td>1</td>\n",
       "      <td>F</td>\n",
       "      <td>55</td>\n",
       "      <td>0610b486422d4921ae7d2bf64640c50b</td>\n",
       "      <td>20170715</td>\n",
       "      <td>112000.0</td>\n",
       "      <td>5.049218</td>\n",
       "      <td>20282</td>\n",
       "      <td>0610b486422d4921ae7d2bf64640c50b</td>\n",
       "      <td>transaction</td>\n",
       "      <td>{'amount': 21.51}</td>\n",
       "      <td>18</td>\n",
       "    </tr>\n",
       "    <tr>\n",
       "      <th>1</th>\n",
       "      <td>1</td>\n",
       "      <td>F</td>\n",
       "      <td>55</td>\n",
       "      <td>0610b486422d4921ae7d2bf64640c50b</td>\n",
       "      <td>20170715</td>\n",
       "      <td>112000.0</td>\n",
       "      <td>5.049218</td>\n",
       "      <td>49501</td>\n",
       "      <td>0610b486422d4921ae7d2bf64640c50b</td>\n",
       "      <td>transaction</td>\n",
       "      <td>{'amount': 32.28}</td>\n",
       "      <td>144</td>\n",
       "    </tr>\n",
       "    <tr>\n",
       "      <th>2</th>\n",
       "      <td>1</td>\n",
       "      <td>F</td>\n",
       "      <td>55</td>\n",
       "      <td>0610b486422d4921ae7d2bf64640c50b</td>\n",
       "      <td>20170715</td>\n",
       "      <td>112000.0</td>\n",
       "      <td>5.049218</td>\n",
       "      <td>150597</td>\n",
       "      <td>0610b486422d4921ae7d2bf64640c50b</td>\n",
       "      <td>offer received</td>\n",
       "      <td>{'offer id': '9b98b8c7a33c4b65b9aebfe6a799e6d9'}</td>\n",
       "      <td>408</td>\n",
       "    </tr>\n",
       "    <tr>\n",
       "      <th>3</th>\n",
       "      <td>1</td>\n",
       "      <td>F</td>\n",
       "      <td>55</td>\n",
       "      <td>0610b486422d4921ae7d2bf64640c50b</td>\n",
       "      <td>20170715</td>\n",
       "      <td>112000.0</td>\n",
       "      <td>5.049218</td>\n",
       "      <td>201571</td>\n",
       "      <td>0610b486422d4921ae7d2bf64640c50b</td>\n",
       "      <td>offer received</td>\n",
       "      <td>{'offer id': '3f207df678b143eea3cee63160fa8bed'}</td>\n",
       "      <td>504</td>\n",
       "    </tr>\n",
       "    <tr>\n",
       "      <th>4</th>\n",
       "      <td>1</td>\n",
       "      <td>F</td>\n",
       "      <td>55</td>\n",
       "      <td>0610b486422d4921ae7d2bf64640c50b</td>\n",
       "      <td>20170715</td>\n",
       "      <td>112000.0</td>\n",
       "      <td>5.049218</td>\n",
       "      <td>227842</td>\n",
       "      <td>0610b486422d4921ae7d2bf64640c50b</td>\n",
       "      <td>transaction</td>\n",
       "      <td>{'amount': 23.22}</td>\n",
       "      <td>528</td>\n",
       "    </tr>\n",
       "  </tbody>\n",
       "</table>\n",
       "</div>"
      ],
      "text/plain": [
       "   Unnamed: 0_x gender  age                                id  \\\n",
       "0             1      F   55  0610b486422d4921ae7d2bf64640c50b   \n",
       "1             1      F   55  0610b486422d4921ae7d2bf64640c50b   \n",
       "2             1      F   55  0610b486422d4921ae7d2bf64640c50b   \n",
       "3             1      F   55  0610b486422d4921ae7d2bf64640c50b   \n",
       "4             1      F   55  0610b486422d4921ae7d2bf64640c50b   \n",
       "\n",
       "   became_member_on    income  log_income  Unnamed: 0_y  \\\n",
       "0          20170715  112000.0    5.049218         20282   \n",
       "1          20170715  112000.0    5.049218         49501   \n",
       "2          20170715  112000.0    5.049218        150597   \n",
       "3          20170715  112000.0    5.049218        201571   \n",
       "4          20170715  112000.0    5.049218        227842   \n",
       "\n",
       "                             person           event  \\\n",
       "0  0610b486422d4921ae7d2bf64640c50b     transaction   \n",
       "1  0610b486422d4921ae7d2bf64640c50b     transaction   \n",
       "2  0610b486422d4921ae7d2bf64640c50b  offer received   \n",
       "3  0610b486422d4921ae7d2bf64640c50b  offer received   \n",
       "4  0610b486422d4921ae7d2bf64640c50b     transaction   \n",
       "\n",
       "                                              value  time  \n",
       "0                                 {'amount': 21.51}    18  \n",
       "1                                 {'amount': 32.28}   144  \n",
       "2  {'offer id': '9b98b8c7a33c4b65b9aebfe6a799e6d9'}   408  \n",
       "3  {'offer id': '3f207df678b143eea3cee63160fa8bed'}   504  \n",
       "4                                 {'amount': 23.22}   528  "
      ]
     },
     "execution_count": 13,
     "metadata": {},
     "output_type": "execute_result"
    }
   ],
   "source": [
    "profile_transcript = prof.merge( right=trans, how='left', left_on='id', right_on='person')\n",
    "profile_transcript.head()"
   ]
  },
  {
   "cell_type": "markdown",
   "id": "b09cb012",
   "metadata": {},
   "source": [
    "The amount of money spent information is located in the 'transcript -> value whose event == transaction -> amount'.\n",
    "After that, we extract the amount paid using a regular expression module (re)."
   ]
  },
  {
   "cell_type": "code",
   "execution_count": 14,
   "id": "31eab59e",
   "metadata": {},
   "outputs": [
    {
     "data": {
      "text/html": [
       "<div>\n",
       "<style scoped>\n",
       "    .dataframe tbody tr th:only-of-type {\n",
       "        vertical-align: middle;\n",
       "    }\n",
       "\n",
       "    .dataframe tbody tr th {\n",
       "        vertical-align: top;\n",
       "    }\n",
       "\n",
       "    .dataframe thead th {\n",
       "        text-align: right;\n",
       "    }\n",
       "</style>\n",
       "<table border=\"1\" class=\"dataframe\">\n",
       "  <thead>\n",
       "    <tr style=\"text-align: right;\">\n",
       "      <th></th>\n",
       "      <th>Unnamed: 0_x</th>\n",
       "      <th>gender</th>\n",
       "      <th>age</th>\n",
       "      <th>id</th>\n",
       "      <th>became_member_on</th>\n",
       "      <th>income</th>\n",
       "      <th>log_income</th>\n",
       "      <th>Unnamed: 0_y</th>\n",
       "      <th>person</th>\n",
       "      <th>event</th>\n",
       "      <th>amount</th>\n",
       "      <th>time</th>\n",
       "    </tr>\n",
       "  </thead>\n",
       "  <tbody>\n",
       "    <tr>\n",
       "      <th>0</th>\n",
       "      <td>1</td>\n",
       "      <td>F</td>\n",
       "      <td>55</td>\n",
       "      <td>0610b486422d4921ae7d2bf64640c50b</td>\n",
       "      <td>20170715</td>\n",
       "      <td>112000.0</td>\n",
       "      <td>5.049218</td>\n",
       "      <td>20282</td>\n",
       "      <td>0610b486422d4921ae7d2bf64640c50b</td>\n",
       "      <td>transaction</td>\n",
       "      <td>21.51</td>\n",
       "      <td>18</td>\n",
       "    </tr>\n",
       "    <tr>\n",
       "      <th>1</th>\n",
       "      <td>1</td>\n",
       "      <td>F</td>\n",
       "      <td>55</td>\n",
       "      <td>0610b486422d4921ae7d2bf64640c50b</td>\n",
       "      <td>20170715</td>\n",
       "      <td>112000.0</td>\n",
       "      <td>5.049218</td>\n",
       "      <td>49501</td>\n",
       "      <td>0610b486422d4921ae7d2bf64640c50b</td>\n",
       "      <td>transaction</td>\n",
       "      <td>32.28</td>\n",
       "      <td>144</td>\n",
       "    </tr>\n",
       "    <tr>\n",
       "      <th>4</th>\n",
       "      <td>1</td>\n",
       "      <td>F</td>\n",
       "      <td>55</td>\n",
       "      <td>0610b486422d4921ae7d2bf64640c50b</td>\n",
       "      <td>20170715</td>\n",
       "      <td>112000.0</td>\n",
       "      <td>5.049218</td>\n",
       "      <td>227842</td>\n",
       "      <td>0610b486422d4921ae7d2bf64640c50b</td>\n",
       "      <td>transaction</td>\n",
       "      <td>23.22</td>\n",
       "      <td>528</td>\n",
       "    </tr>\n",
       "    <tr>\n",
       "      <th>8</th>\n",
       "      <td>3</td>\n",
       "      <td>F</td>\n",
       "      <td>75</td>\n",
       "      <td>78afa995795e4d85b5d9ceeca43f5fef</td>\n",
       "      <td>20170509</td>\n",
       "      <td>100000.0</td>\n",
       "      <td>5.000000</td>\n",
       "      <td>47582</td>\n",
       "      <td>78afa995795e4d85b5d9ceeca43f5fef</td>\n",
       "      <td>transaction</td>\n",
       "      <td>19.89</td>\n",
       "      <td>132</td>\n",
       "    </tr>\n",
       "    <tr>\n",
       "      <th>10</th>\n",
       "      <td>3</td>\n",
       "      <td>F</td>\n",
       "      <td>75</td>\n",
       "      <td>78afa995795e4d85b5d9ceeca43f5fef</td>\n",
       "      <td>20170509</td>\n",
       "      <td>100000.0</td>\n",
       "      <td>5.000000</td>\n",
       "      <td>49502</td>\n",
       "      <td>78afa995795e4d85b5d9ceeca43f5fef</td>\n",
       "      <td>transaction</td>\n",
       "      <td>17.78</td>\n",
       "      <td>144</td>\n",
       "    </tr>\n",
       "  </tbody>\n",
       "</table>\n",
       "</div>"
      ],
      "text/plain": [
       "    Unnamed: 0_x gender  age                                id  \\\n",
       "0              1      F   55  0610b486422d4921ae7d2bf64640c50b   \n",
       "1              1      F   55  0610b486422d4921ae7d2bf64640c50b   \n",
       "4              1      F   55  0610b486422d4921ae7d2bf64640c50b   \n",
       "8              3      F   75  78afa995795e4d85b5d9ceeca43f5fef   \n",
       "10             3      F   75  78afa995795e4d85b5d9ceeca43f5fef   \n",
       "\n",
       "    became_member_on    income  log_income  Unnamed: 0_y  \\\n",
       "0           20170715  112000.0    5.049218         20282   \n",
       "1           20170715  112000.0    5.049218         49501   \n",
       "4           20170715  112000.0    5.049218        227842   \n",
       "8           20170509  100000.0    5.000000         47582   \n",
       "10          20170509  100000.0    5.000000         49502   \n",
       "\n",
       "                              person        event  amount  time  \n",
       "0   0610b486422d4921ae7d2bf64640c50b  transaction   21.51    18  \n",
       "1   0610b486422d4921ae7d2bf64640c50b  transaction   32.28   144  \n",
       "4   0610b486422d4921ae7d2bf64640c50b  transaction   23.22   528  \n",
       "8   78afa995795e4d85b5d9ceeca43f5fef  transaction   19.89   132  \n",
       "10  78afa995795e4d85b5d9ceeca43f5fef  transaction   17.78   144  "
      ]
     },
     "execution_count": 14,
     "metadata": {},
     "output_type": "execute_result"
    }
   ],
   "source": [
    "import re\n",
    "\n",
    "transaction = profile_transcript.loc[profile_transcript['event'] == 'transaction']\n",
    "offer = profile_transcript.loc[profile_transcript['event'] != 'transaction']\n",
    "\n",
    "pattern = re.compile('[\\d]+.[\\d]+')\n",
    "transaction['value'] = transaction['value'].apply(pattern.findall).str.get(0)\n",
    "transaction.rename(columns={'value': 'amount'}, inplace=True)\n",
    "transaction = transaction.astype(dtype={'amount': 'float'})\n",
    "\n",
    "transaction.head()\n"
   ]
  },
  {
   "cell_type": "markdown",
   "id": "f6d6cb9a",
   "metadata": {},
   "source": [
    "Now, we will make a Pivot Table that contains the average mean purchase amount by each Starbucks member.\n",
    "Also, we will be adding each member's demographic status by merging the pivot table with 'profile':"
   ]
  },
  {
   "cell_type": "code",
   "execution_count": 15,
   "id": "5214a108",
   "metadata": {},
   "outputs": [
    {
     "data": {
      "text/html": [
       "<div>\n",
       "<style scoped>\n",
       "    .dataframe tbody tr th:only-of-type {\n",
       "        vertical-align: middle;\n",
       "    }\n",
       "\n",
       "    .dataframe tbody tr th {\n",
       "        vertical-align: top;\n",
       "    }\n",
       "\n",
       "    .dataframe thead th {\n",
       "        text-align: right;\n",
       "    }\n",
       "</style>\n",
       "<table border=\"1\" class=\"dataframe\">\n",
       "  <thead>\n",
       "    <tr style=\"text-align: right;\">\n",
       "      <th></th>\n",
       "      <th>id</th>\n",
       "      <th>amount</th>\n",
       "      <th>Unnamed: 0</th>\n",
       "      <th>gender</th>\n",
       "      <th>age</th>\n",
       "      <th>became_member_on</th>\n",
       "      <th>income</th>\n",
       "      <th>log_income</th>\n",
       "    </tr>\n",
       "  </thead>\n",
       "  <tbody>\n",
       "    <tr>\n",
       "      <th>0</th>\n",
       "      <td>0009655768c64bdeb2e877511632db8f</td>\n",
       "      <td>15.950000</td>\n",
       "      <td>3793</td>\n",
       "      <td>M</td>\n",
       "      <td>33</td>\n",
       "      <td>20170421</td>\n",
       "      <td>72000.0</td>\n",
       "      <td>4.857332</td>\n",
       "    </tr>\n",
       "    <tr>\n",
       "      <th>1</th>\n",
       "      <td>0011e0d4e6b944f998e987f904e8c1e5</td>\n",
       "      <td>15.892000</td>\n",
       "      <td>4201</td>\n",
       "      <td>O</td>\n",
       "      <td>40</td>\n",
       "      <td>20180109</td>\n",
       "      <td>57000.0</td>\n",
       "      <td>4.755875</td>\n",
       "    </tr>\n",
       "    <tr>\n",
       "      <th>2</th>\n",
       "      <td>0020c2b971eb4e9188eac86d93036a77</td>\n",
       "      <td>24.607500</td>\n",
       "      <td>2563</td>\n",
       "      <td>F</td>\n",
       "      <td>59</td>\n",
       "      <td>20160304</td>\n",
       "      <td>90000.0</td>\n",
       "      <td>4.954243</td>\n",
       "    </tr>\n",
       "    <tr>\n",
       "      <th>3</th>\n",
       "      <td>0020ccbbb6d84e358d3414a3ff76cffd</td>\n",
       "      <td>12.837500</td>\n",
       "      <td>8413</td>\n",
       "      <td>F</td>\n",
       "      <td>24</td>\n",
       "      <td>20161111</td>\n",
       "      <td>60000.0</td>\n",
       "      <td>4.778151</td>\n",
       "    </tr>\n",
       "    <tr>\n",
       "      <th>4</th>\n",
       "      <td>003d66b6608740288d6cc97a6903f4f0</td>\n",
       "      <td>2.685556</td>\n",
       "      <td>10128</td>\n",
       "      <td>F</td>\n",
       "      <td>26</td>\n",
       "      <td>20170621</td>\n",
       "      <td>73000.0</td>\n",
       "      <td>4.863323</td>\n",
       "    </tr>\n",
       "  </tbody>\n",
       "</table>\n",
       "</div>"
      ],
      "text/plain": [
       "                                 id     amount  Unnamed: 0 gender  age  \\\n",
       "0  0009655768c64bdeb2e877511632db8f  15.950000        3793      M   33   \n",
       "1  0011e0d4e6b944f998e987f904e8c1e5  15.892000        4201      O   40   \n",
       "2  0020c2b971eb4e9188eac86d93036a77  24.607500        2563      F   59   \n",
       "3  0020ccbbb6d84e358d3414a3ff76cffd  12.837500        8413      F   24   \n",
       "4  003d66b6608740288d6cc97a6903f4f0   2.685556       10128      F   26   \n",
       "\n",
       "   became_member_on   income  log_income  \n",
       "0          20170421  72000.0    4.857332  \n",
       "1          20180109  57000.0    4.755875  \n",
       "2          20160304  90000.0    4.954243  \n",
       "3          20161111  60000.0    4.778151  \n",
       "4          20170621  73000.0    4.863323  "
      ]
     },
     "execution_count": 15,
     "metadata": {},
     "output_type": "execute_result"
    }
   ],
   "source": [
    "mean_amount_by_member = pd.pivot_table(data=transaction, values='amount', index='id', aggfunc='mean').reset_index()\n",
    "mean_amount_by_member\n",
    "\n",
    "mean_amount_by_member = mean_amount_by_member.merge(right=prof, how='left', on='id')\n",
    "mean_amount_by_member.head()\n"
   ]
  },
  {
   "cell_type": "code",
   "execution_count": 16,
   "id": "4d123c88",
   "metadata": {},
   "outputs": [
    {
     "data": {
      "image/png": "[encoded data removed]",
      "text/plain": [
       "<Figure size 432x288 with 1 Axes>"
      ]
     },
     "metadata": {
      "needs_background": "light"
     },
     "output_type": "display_data"
    }
   ],
   "source": [
    "amount_by_gender = mean_amount_by_member.groupby(by='gender').mean()['amount']\n",
    "\n",
    "sns.barplot(x = amount_by_gender.index, y = amount_by_gender)\n",
    "\n",
    "plt.title('Average money amount spent by gender')\n",
    "plt.xlabel('Gender')\n",
    "plt.ylabel('Average Amount spent ($)')\n",
    "plt.show()"
   ]
  },
  {
   "cell_type": "markdown",
   "id": "5e4d5c9c",
   "metadata": {},
   "source": [
    "From this, we see that Starbucks female customers spend, on average, $5 more than male customers at Starbucks. "
   ]
  },
  {
   "cell_type": "code",
   "execution_count": 17,
   "id": "ac24628b",
   "metadata": {},
   "outputs": [
    {
     "data": {
      "text/html": [
       "<div>\n",
       "<style scoped>\n",
       "    .dataframe tbody tr th:only-of-type {\n",
       "        vertical-align: middle;\n",
       "    }\n",
       "\n",
       "    .dataframe tbody tr th {\n",
       "        vertical-align: top;\n",
       "    }\n",
       "\n",
       "    .dataframe thead th {\n",
       "        text-align: right;\n",
       "    }\n",
       "</style>\n",
       "<table border=\"1\" class=\"dataframe\">\n",
       "  <thead>\n",
       "    <tr style=\"text-align: right;\">\n",
       "      <th></th>\n",
       "      <th>index</th>\n",
       "      <th>Unnamed: 0</th>\n",
       "      <th>gender</th>\n",
       "      <th>age</th>\n",
       "      <th>customer_id</th>\n",
       "      <th>became_member_on</th>\n",
       "      <th>income</th>\n",
       "      <th>log_income</th>\n",
       "      <th>year</th>\n",
       "      <th>month</th>\n",
       "      <th>day</th>\n",
       "      <th>member_since_how_manydays</th>\n",
       "    </tr>\n",
       "  </thead>\n",
       "  <tbody>\n",
       "    <tr>\n",
       "      <th>0</th>\n",
       "      <td>1</td>\n",
       "      <td>1</td>\n",
       "      <td>F</td>\n",
       "      <td>55</td>\n",
       "      <td>0610b486422d4921ae7d2bf64640c50b</td>\n",
       "      <td>2017-07-15</td>\n",
       "      <td>112000.0</td>\n",
       "      <td>5.049218</td>\n",
       "      <td>2017</td>\n",
       "      <td>7</td>\n",
       "      <td>Saturday</td>\n",
       "      <td>1788</td>\n",
       "    </tr>\n",
       "    <tr>\n",
       "      <th>1</th>\n",
       "      <td>3</td>\n",
       "      <td>3</td>\n",
       "      <td>F</td>\n",
       "      <td>75</td>\n",
       "      <td>78afa995795e4d85b5d9ceeca43f5fef</td>\n",
       "      <td>2017-05-09</td>\n",
       "      <td>100000.0</td>\n",
       "      <td>5.000000</td>\n",
       "      <td>2017</td>\n",
       "      <td>5</td>\n",
       "      <td>Tuesday</td>\n",
       "      <td>1855</td>\n",
       "    </tr>\n",
       "    <tr>\n",
       "      <th>2</th>\n",
       "      <td>5</td>\n",
       "      <td>5</td>\n",
       "      <td>M</td>\n",
       "      <td>68</td>\n",
       "      <td>e2127556f4f64592b11af22de27a7932</td>\n",
       "      <td>2018-04-26</td>\n",
       "      <td>70000.0</td>\n",
       "      <td>4.845098</td>\n",
       "      <td>2018</td>\n",
       "      <td>4</td>\n",
       "      <td>Thursday</td>\n",
       "      <td>1503</td>\n",
       "    </tr>\n",
       "    <tr>\n",
       "      <th>3</th>\n",
       "      <td>8</td>\n",
       "      <td>8</td>\n",
       "      <td>M</td>\n",
       "      <td>65</td>\n",
       "      <td>389bc3fa690240e798340f5a15918d5c</td>\n",
       "      <td>2018-02-09</td>\n",
       "      <td>53000.0</td>\n",
       "      <td>4.724276</td>\n",
       "      <td>2018</td>\n",
       "      <td>2</td>\n",
       "      <td>Friday</td>\n",
       "      <td>1579</td>\n",
       "    </tr>\n",
       "    <tr>\n",
       "      <th>4</th>\n",
       "      <td>12</td>\n",
       "      <td>12</td>\n",
       "      <td>M</td>\n",
       "      <td>58</td>\n",
       "      <td>2eeac8d8feae4a8cad5a6af0499a211d</td>\n",
       "      <td>2017-11-11</td>\n",
       "      <td>51000.0</td>\n",
       "      <td>4.707570</td>\n",
       "      <td>2017</td>\n",
       "      <td>11</td>\n",
       "      <td>Saturday</td>\n",
       "      <td>1669</td>\n",
       "    </tr>\n",
       "  </tbody>\n",
       "</table>\n",
       "</div>"
      ],
      "text/plain": [
       "   index  Unnamed: 0 gender  age                       customer_id  \\\n",
       "0      1           1      F   55  0610b486422d4921ae7d2bf64640c50b   \n",
       "1      3           3      F   75  78afa995795e4d85b5d9ceeca43f5fef   \n",
       "2      5           5      M   68  e2127556f4f64592b11af22de27a7932   \n",
       "3      8           8      M   65  389bc3fa690240e798340f5a15918d5c   \n",
       "4     12          12      M   58  2eeac8d8feae4a8cad5a6af0499a211d   \n",
       "\n",
       "  became_member_on    income  log_income  year  month       day  \\\n",
       "0       2017-07-15  112000.0    5.049218  2017      7  Saturday   \n",
       "1       2017-05-09  100000.0    5.000000  2017      5   Tuesday   \n",
       "2       2018-04-26   70000.0    4.845098  2018      4  Thursday   \n",
       "3       2018-02-09   53000.0    4.724276  2018      2    Friday   \n",
       "4       2017-11-11   51000.0    4.707570  2017     11  Saturday   \n",
       "\n",
       "   member_since_how_manydays  \n",
       "0                       1788  \n",
       "1                       1855  \n",
       "2                       1503  \n",
       "3                       1579  \n",
       "4                       1669  "
      ]
     },
     "execution_count": 17,
     "metadata": {},
     "output_type": "execute_result"
    }
   ],
   "source": [
    "#format the date to see the month, day, and years frequency of offers \n",
    "prof['became_member_on'] = pd.to_datetime(prof['became_member_on'].astype(str), format='%Y-%m-%d')\n",
    "prof['year'] = prof['became_member_on'].dt.year\n",
    "prof['month'] = prof['became_member_on'].dt.month\n",
    "prof['day']=prof['became_member_on'].dt.day_name()\n",
    "prof['member_since_how_manydays'] = (pd.to_datetime('today') - prof['became_member_on']).astype('timedelta64[D]').astype(int)\n",
    "prof.rename(columns={'id': 'customer_id'}, inplace=True)\n",
    "prof.head().reset_index()"
   ]
  },
  {
   "cell_type": "code",
   "execution_count": 18,
   "id": "51476b9d",
   "metadata": {},
   "outputs": [
    {
     "data": {
      "text/plain": [
       "Text(0.5, 1.0, 'Frequency of Members Joined per Month')"
      ]
     },
     "execution_count": 18,
     "metadata": {},
     "output_type": "execute_result"
    },
    {
     "data": {
      "image/png": "[encoded data removed]",
      "text/plain": [
       "<Figure size 864x360 with 1 Axes>"
      ]
     },
     "metadata": {
      "needs_background": "light"
     },
     "output_type": "display_data"
    }
   ],
   "source": [
    "fig = plt.figure(figsize = (12,5))\n",
    "sns.countplot(x='month', data=prof, order=prof['month'].value_counts().index[0:15])\n",
    "plt.title('Frequency of Members Joined per Month')"
   ]
  },
  {
   "cell_type": "code",
   "execution_count": 19,
   "id": "6a96285c",
   "metadata": {},
   "outputs": [
    {
     "data": {
      "text/plain": [
       "Text(0.5, 1.0, 'Frequency of Members Joined per Day')"
      ]
     },
     "execution_count": 19,
     "metadata": {},
     "output_type": "execute_result"
    },
    {
     "data": {
      "image/png": "[encoded data removed]",
      "text/plain": [
       "<Figure size 864x360 with 1 Axes>"
      ]
     },
     "metadata": {
      "needs_background": "light"
     },
     "output_type": "display_data"
    }
   ],
   "source": [
    "fig = plt.figure(figsize = (12,5))\n",
    "sns.countplot(x='day', data=prof, order=prof['day'].value_counts().index[0:15])\n",
    "plt.title('Frequency of Members Joined per Day')\n"
   ]
  },
  {
   "cell_type": "code",
   "execution_count": 20,
   "id": "b4a3ddfc",
   "metadata": {},
   "outputs": [
    {
     "data": {
      "text/plain": [
       "Text(0.5, 1.0, 'Frequency of Members Joined per Year')"
      ]
     },
     "execution_count": 20,
     "metadata": {},
     "output_type": "execute_result"
    },
    {
     "data": {
      "image/png": "[encoded data removed]",
      "text/plain": [
       "<Figure size 864x360 with 1 Axes>"
      ]
     },
     "metadata": {
      "needs_background": "light"
     },
     "output_type": "display_data"
    }
   ],
   "source": [
    "fig = plt.figure(figsize = (12,5))\n",
    "sns.countplot(x='year', data=prof, order=prof['year'].value_counts().index[0:15])\n",
    "plt.title('Frequency of Members Joined per Year')"
   ]
  },
  {
   "cell_type": "markdown",
   "id": "95969cda",
   "metadata": {},
   "source": [
    "The 'Frequency of Members Joined per Month' graph shows that August had the highest number of members join which was about 1400 members. Furthermore, the 'Frequency of Members Joined per Day' graph shows that Sunday had the highest number of memmbers join, which was about 2300 members. Lastly, the 'Frequency of Members Joined per Year' graph shows that 2017 had the highest number of memmbers join, which was about 5600 members."
   ]
  },
  {
   "cell_type": "code",
   "execution_count": 21,
   "id": "cf58a36d",
   "metadata": {},
   "outputs": [
    {
     "data": {
      "text/plain": [
       "dtype('int64')"
      ]
     },
     "execution_count": 21,
     "metadata": {},
     "output_type": "execute_result"
    }
   ],
   "source": [
    "prof.age.min()\n",
    "prof.age.max()\n",
    "prof.age.dtype"
   ]
  },
  {
   "cell_type": "code",
   "execution_count": 22,
   "id": "150f7f98",
   "metadata": {},
   "outputs": [
    {
     "data": {
      "text/plain": [
       "(array([0, 1, 2, 3, 4, 5, 6, 7, 8]),\n",
       " [Text(0, 0, '18-28 years old'),\n",
       "  Text(1, 0, '28-38 years old'),\n",
       "  Text(2, 0, '38-48 years old'),\n",
       "  Text(3, 0, '48-58 years old'),\n",
       "  Text(4, 0, '58-68 years old'),\n",
       "  Text(5, 0, '68-78 years old'),\n",
       "  Text(6, 0, '78-88 years old'),\n",
       "  Text(7, 0, '88-98 years old'),\n",
       "  Text(8, 0, '98-101 years old')])"
      ]
     },
     "execution_count": 22,
     "metadata": {},
     "output_type": "execute_result"
    },
    {
     "data": {
      "image/png": "[encoded data removed]",
      "text/plain": [
       "<Figure size 864x360 with 1 Axes>"
      ]
     },
     "metadata": {
      "needs_background": "light"
     },
     "output_type": "display_data"
    }
   ],
   "source": [
    "#find the age interval which had the highest offers \n",
    "prof['age_interval'] = pd.cut(x=prof['age'], bins=[18, 28, 38, 48, 58, 68, 78, 88, 98, 101],\n",
    "                    labels=['18-28 years old', '28-38 years old', '38-48 years old', \n",
    "                           '48-58 years old', '58-68 years old', '68-78 years old', \n",
    "                           '78-88 years old', '88-98 years old', '98-101 years old'])\n",
    "\n",
    "fig = plt.figure(figsize = (12,5))\n",
    "sns.countplot(x='age_interval', data=prof)\n",
    "plt.xticks(rotation=50)"
   ]
  },
  {
   "cell_type": "markdown",
   "id": "9da79c2b",
   "metadata": {},
   "source": [
    "The age group of 48-58 years old had the highest frequency of being Starbucks customers. "
   ]
  },
  {
   "cell_type": "markdown",
   "id": "56393d73",
   "metadata": {},
   "source": [
    "Transcript EDA"
   ]
  },
  {
   "cell_type": "code",
   "execution_count": 23,
   "id": "81ae8a56",
   "metadata": {},
   "outputs": [
    {
     "data": {
      "text/plain": [
       "<AxesSubplot:>"
      ]
     },
     "execution_count": 23,
     "metadata": {},
     "output_type": "execute_result"
    },
    {
     "data": {
      "image/png": "[encoded data removed]",
      "text/plain": [
       "<Figure size 432x288 with 1 Axes>"
      ]
     },
     "metadata": {
      "needs_background": "light"
     },
     "output_type": "display_data"
    }
   ],
   "source": [
    "trans.event.value_counts(normalize = True).plot.bar()"
   ]
  },
  {
   "cell_type": "markdown",
   "id": "86d2dc74",
   "metadata": {},
   "source": [
    "According to the bar graph we can see that there were more transactions than offer viewed, offer recieved, and offer completed. This maeans that 45% of the offers are in transaction, 25% of the offers have been recieved, 19% of the offers have been viewed, and only 11% of the offers are completed. "
   ]
  },
  {
   "cell_type": "code",
   "execution_count": 24,
   "id": "ebf2b3bf",
   "metadata": {},
   "outputs": [
    {
     "data": {
      "text/plain": [
       "Text(0.5, 1.0, 'Number of Offers per time interval')"
      ]
     },
     "execution_count": 24,
     "metadata": {},
     "output_type": "execute_result"
    },
    {
     "data": {
      "image/png": "[encoded data removed]",
      "text/plain": [
       "<Figure size 864x360 with 1 Axes>"
      ]
     },
     "metadata": {
      "needs_background": "light"
     },
     "output_type": "display_data"
    }
   ],
   "source": [
    "#find which time intervals had the highest offers\n",
    "#make the time intervals into bins \n",
    "trans['time_intervals'] = pd.cut(trans['time'], \n",
    "                                    [0, 50, 100, 150, 200, 250, 300, 350, 400, 450, 500, 550, 600, 650, 700, 750, 800],\n",
    "                                labels=['0-50 days', '50-100 days', '100-150 days', '150-200 days', \n",
    "                                       '200-250 days', '250-300 days', '300-350 days', '350-400 days',\n",
    "                                       '400-450 days', '450-500 days', '500-550 days', '550-600 days', \n",
    "                                       '600-650 days', '650-700 days', '700-750 days', '750-800 days'])\n",
    "\n",
    "fig = plt.figure(figsize = (12,5))\n",
    "sns.countplot(x='time_intervals', data=trans)\n",
    "plt.xticks(rotation=50)\n",
    "plt.title('Number of Offers per time interval')"
   ]
  },
  {
   "cell_type": "markdown",
   "id": "3571217a",
   "metadata": {},
   "source": [
    "According to the bar graph 400-450 days had the highest offers of around 35700 offers. "
   ]
  },
  {
   "cell_type": "code",
   "execution_count": 25,
   "id": "e4d42132",
   "metadata": {},
   "outputs": [
    {
     "data": {
      "text/plain": [
       "<AxesSubplot:xlabel='gender'>"
      ]
     },
     "execution_count": 25,
     "metadata": {},
     "output_type": "execute_result"
    },
    {
     "data": {
      "image/png": "[encoded data removed]",
      "text/plain": [
       "<Figure size 432x288 with 1 Axes>"
      ]
     },
     "metadata": {
      "needs_background": "light"
     },
     "output_type": "display_data"
    }
   ],
   "source": [
    "profile_transcript.pivot_table(values=[\"income\"], index=[\"gender\"], columns = ['event']).plot.bar()"
   ]
  },
  {
   "cell_type": "raw",
   "id": "414a23c3",
   "metadata": {},
   "source": [
    "This graph shows that females with their offer completed had the highest income amongst any other gender. "
   ]
  },
  {
   "cell_type": "code",
   "execution_count": 26,
   "id": "dc7bd744",
   "metadata": {},
   "outputs": [
    {
     "data": {
      "text/plain": [
       "<AxesSubplot:xlabel='gender', ylabel='event'>"
      ]
     },
     "execution_count": 26,
     "metadata": {},
     "output_type": "execute_result"
    },
    {
     "data": {
      "image/png": "[encoded data removed]",
      "text/plain": [
       "<Figure size 432x288 with 2 Axes>"
      ]
     },
     "metadata": {
      "needs_background": "light"
     },
     "output_type": "display_data"
    }
   ],
   "source": [
    "cross = pd.crosstab(profile_transcript[\"event\"],profile_transcript[\"gender\"] )\n",
    "sns.heatmap(cross, annot = True)"
   ]
  },
  {
   "cell_type": "markdown",
   "id": "54ec7f4e",
   "metadata": {},
   "source": [
    "Predicting how much a customer will spend based on the age, income, and sex:"
   ]
  },
  {
   "cell_type": "code",
   "execution_count": 27,
   "id": "e19c914e",
   "metadata": {},
   "outputs": [
    {
     "name": "stdout",
     "output_type": "stream",
     "text": [
      "[['F']\n",
      " ['M']\n",
      " ['O']]\n",
      "[[1. 0. 0.]\n",
      " [0. 1. 0.]\n",
      " [0. 0. 1.]]\n"
     ]
    },
    {
     "data": {
      "text/html": [
       "<div>\n",
       "<style scoped>\n",
       "    .dataframe tbody tr th:only-of-type {\n",
       "        vertical-align: middle;\n",
       "    }\n",
       "\n",
       "    .dataframe tbody tr th {\n",
       "        vertical-align: top;\n",
       "    }\n",
       "\n",
       "    .dataframe thead th {\n",
       "        text-align: right;\n",
       "    }\n",
       "</style>\n",
       "<table border=\"1\" class=\"dataframe\">\n",
       "  <thead>\n",
       "    <tr style=\"text-align: right;\">\n",
       "      <th></th>\n",
       "      <th>index</th>\n",
       "      <th>value</th>\n",
       "      <th>age</th>\n",
       "      <th>income</th>\n",
       "      <th>gender</th>\n",
       "      <th>became_member_on</th>\n",
       "      <th>F</th>\n",
       "      <th>M</th>\n",
       "      <th>O</th>\n",
       "      <th>day</th>\n",
       "      <th>month</th>\n",
       "      <th>year</th>\n",
       "    </tr>\n",
       "  </thead>\n",
       "  <tbody>\n",
       "    <tr>\n",
       "      <th>0</th>\n",
       "      <td>0</td>\n",
       "      <td>0.83</td>\n",
       "      <td>20</td>\n",
       "      <td>30000.0</td>\n",
       "      <td>True</td>\n",
       "      <td>2016-07-11</td>\n",
       "      <td>1</td>\n",
       "      <td>0</td>\n",
       "      <td>0</td>\n",
       "      <td>11</td>\n",
       "      <td>7</td>\n",
       "      <td>2016</td>\n",
       "    </tr>\n",
       "    <tr>\n",
       "      <th>1</th>\n",
       "      <td>1</td>\n",
       "      <td>1.44</td>\n",
       "      <td>20</td>\n",
       "      <td>30000.0</td>\n",
       "      <td>True</td>\n",
       "      <td>2016-07-11</td>\n",
       "      <td>1</td>\n",
       "      <td>0</td>\n",
       "      <td>0</td>\n",
       "      <td>11</td>\n",
       "      <td>7</td>\n",
       "      <td>2016</td>\n",
       "    </tr>\n",
       "    <tr>\n",
       "      <th>2</th>\n",
       "      <td>2</td>\n",
       "      <td>4.56</td>\n",
       "      <td>20</td>\n",
       "      <td>30000.0</td>\n",
       "      <td>True</td>\n",
       "      <td>2016-07-11</td>\n",
       "      <td>1</td>\n",
       "      <td>0</td>\n",
       "      <td>0</td>\n",
       "      <td>11</td>\n",
       "      <td>7</td>\n",
       "      <td>2016</td>\n",
       "    </tr>\n",
       "    <tr>\n",
       "      <th>3</th>\n",
       "      <td>3</td>\n",
       "      <td>1.53</td>\n",
       "      <td>20</td>\n",
       "      <td>30000.0</td>\n",
       "      <td>True</td>\n",
       "      <td>2016-07-11</td>\n",
       "      <td>1</td>\n",
       "      <td>0</td>\n",
       "      <td>0</td>\n",
       "      <td>11</td>\n",
       "      <td>7</td>\n",
       "      <td>2016</td>\n",
       "    </tr>\n",
       "    <tr>\n",
       "      <th>4</th>\n",
       "      <td>4</td>\n",
       "      <td>0.50</td>\n",
       "      <td>20</td>\n",
       "      <td>30000.0</td>\n",
       "      <td>True</td>\n",
       "      <td>2016-07-11</td>\n",
       "      <td>1</td>\n",
       "      <td>0</td>\n",
       "      <td>0</td>\n",
       "      <td>11</td>\n",
       "      <td>7</td>\n",
       "      <td>2016</td>\n",
       "    </tr>\n",
       "    <tr>\n",
       "      <th>...</th>\n",
       "      <td>...</td>\n",
       "      <td>...</td>\n",
       "      <td>...</td>\n",
       "      <td>...</td>\n",
       "      <td>...</td>\n",
       "      <td>...</td>\n",
       "      <td>...</td>\n",
       "      <td>...</td>\n",
       "      <td>...</td>\n",
       "      <td>...</td>\n",
       "      <td>...</td>\n",
       "      <td>...</td>\n",
       "    </tr>\n",
       "    <tr>\n",
       "      <th>123952</th>\n",
       "      <td>123952</td>\n",
       "      <td>14.68</td>\n",
       "      <td>72</td>\n",
       "      <td>74000.0</td>\n",
       "      <td>True</td>\n",
       "      <td>2018-03-18</td>\n",
       "      <td>1</td>\n",
       "      <td>0</td>\n",
       "      <td>0</td>\n",
       "      <td>18</td>\n",
       "      <td>3</td>\n",
       "      <td>2018</td>\n",
       "    </tr>\n",
       "    <tr>\n",
       "      <th>123953</th>\n",
       "      <td>123953</td>\n",
       "      <td>3.19</td>\n",
       "      <td>50</td>\n",
       "      <td>60000.0</td>\n",
       "      <td>True</td>\n",
       "      <td>2018-01-07</td>\n",
       "      <td>0</td>\n",
       "      <td>1</td>\n",
       "      <td>0</td>\n",
       "      <td>7</td>\n",
       "      <td>1</td>\n",
       "      <td>2018</td>\n",
       "    </tr>\n",
       "    <tr>\n",
       "      <th>123954</th>\n",
       "      <td>123954</td>\n",
       "      <td>15.35</td>\n",
       "      <td>73</td>\n",
       "      <td>65000.0</td>\n",
       "      <td>True</td>\n",
       "      <td>2018-05-01</td>\n",
       "      <td>1</td>\n",
       "      <td>0</td>\n",
       "      <td>0</td>\n",
       "      <td>1</td>\n",
       "      <td>5</td>\n",
       "      <td>2018</td>\n",
       "    </tr>\n",
       "    <tr>\n",
       "      <th>123955</th>\n",
       "      <td>123955</td>\n",
       "      <td>0.76</td>\n",
       "      <td>42</td>\n",
       "      <td>69000.0</td>\n",
       "      <td>True</td>\n",
       "      <td>2017-11-04</td>\n",
       "      <td>0</td>\n",
       "      <td>1</td>\n",
       "      <td>0</td>\n",
       "      <td>4</td>\n",
       "      <td>11</td>\n",
       "      <td>2017</td>\n",
       "    </tr>\n",
       "    <tr>\n",
       "      <th>123956</th>\n",
       "      <td>123956</td>\n",
       "      <td>11.44</td>\n",
       "      <td>56</td>\n",
       "      <td>61000.0</td>\n",
       "      <td>True</td>\n",
       "      <td>2017-10-24</td>\n",
       "      <td>0</td>\n",
       "      <td>1</td>\n",
       "      <td>0</td>\n",
       "      <td>24</td>\n",
       "      <td>10</td>\n",
       "      <td>2017</td>\n",
       "    </tr>\n",
       "  </tbody>\n",
       "</table>\n",
       "<p>123957 rows × 12 columns</p>\n",
       "</div>"
      ],
      "text/plain": [
       "         index  value  age   income  gender became_member_on  F  M  O  day  \\\n",
       "0            0   0.83   20  30000.0    True       2016-07-11  1  0  0   11   \n",
       "1            1   1.44   20  30000.0    True       2016-07-11  1  0  0   11   \n",
       "2            2   4.56   20  30000.0    True       2016-07-11  1  0  0   11   \n",
       "3            3   1.53   20  30000.0    True       2016-07-11  1  0  0   11   \n",
       "4            4   0.50   20  30000.0    True       2016-07-11  1  0  0   11   \n",
       "...        ...    ...  ...      ...     ...              ... .. .. ..  ...   \n",
       "123952  123952  14.68   72  74000.0    True       2018-03-18  1  0  0   18   \n",
       "123953  123953   3.19   50  60000.0    True       2018-01-07  0  1  0    7   \n",
       "123954  123954  15.35   73  65000.0    True       2018-05-01  1  0  0    1   \n",
       "123955  123955   0.76   42  69000.0    True       2017-11-04  0  1  0    4   \n",
       "123956  123956  11.44   56  61000.0    True       2017-10-24  0  1  0   24   \n",
       "\n",
       "        month  year  \n",
       "0           7  2016  \n",
       "1           7  2016  \n",
       "2           7  2016  \n",
       "3           7  2016  \n",
       "4           7  2016  \n",
       "...       ...   ...  \n",
       "123952      3  2018  \n",
       "123953      1  2018  \n",
       "123954      5  2018  \n",
       "123955     11  2017  \n",
       "123956     10  2017  \n",
       "\n",
       "[123957 rows x 12 columns]"
      ]
     },
     "execution_count": 27,
     "metadata": {},
     "output_type": "execute_result"
    }
   ],
   "source": [
    "#since we are predciting transactions, we seperate the transactions from the rest of the dataset\n",
    "moneySpent = trans[trans[\"event\"] == \"transaction\"].copy().reset_index()\n",
    "prof\n",
    "#merge profile and transcript by customer id so that we have demographics of each person who made a transaction\n",
    "moneySpent = moneySpent.merge(prof, left_on=\"person\", right_on=\"customer_id\")[[\"person\", \"value\", \"age\", \"income\", \"gender\", \"became_member_on\"]]\n",
    "moneySpent[\"value\"] = moneySpent[\"value\"].str.replace(\"{\", \"\", regex = True)\n",
    "moneySpent[\"value\"] = moneySpent[\"value\"].str.replace(\"}\", \"\", regex = True)\n",
    "moneySpent[\"value\"] = moneySpent[\"value\"].str.replace(\"amount\", \"\", regex = True)\n",
    "moneySpent[\"value\"] = moneySpent[\"value\"].str.replace(\":\", \"\", regex = True)\n",
    "moneySpent[\"value\"] = moneySpent[\"value\"].str.replace(\"''\", \"\", regex = True)\n",
    "moneySpent[\"value\"] = moneySpent[\"value\"].astype(float)\n",
    "\n",
    "#creating one hot encoding for gender\n",
    "from numpy import asarray\n",
    "from sklearn.preprocessing import OneHotEncoder\n",
    "data = asarray([['F'], ['M'], ['O']])\n",
    "print(data)\n",
    "\n",
    "encoder = OneHotEncoder(sparse=False)\n",
    "\n",
    "onehot = encoder.fit_transform(data)\n",
    "print(onehot)\n",
    "\n",
    "#implement onehot\n",
    "moneySpent[\"F\"] = moneySpent[\"gender\"].copy()\n",
    "moneySpent[\"M\"] = moneySpent[\"gender\"].copy()\n",
    "moneySpent[\"O\"] = moneySpent[\"gender\"].copy()\n",
    "\n",
    "moneySpent[\"F\"] = moneySpent[\"F\"].replace(\"F\", 1)\n",
    "moneySpent[\"F\"] = moneySpent[\"F\"].replace(\"M\", 0)\n",
    "moneySpent[\"F\"] = moneySpent[\"F\"].replace(\"O\", 0)\n",
    "moneySpent[\"F\"]  = moneySpent[\"F\"].fillna(0)\n",
    "moneySpent[\"F\"]  = moneySpent[\"F\"].astype(int)\n",
    "\n",
    "\n",
    "moneySpent[\"M\"] = moneySpent[\"M\"].replace(\"M\", 1)\n",
    "moneySpent[\"M\"] = moneySpent[\"M\"].replace(\"F\", 0)\n",
    "moneySpent[\"M\"] = moneySpent[\"M\"].replace(\"O\", 0)\n",
    "moneySpent[\"M\"]  = moneySpent[\"M\"].fillna(0)\n",
    "moneySpent[\"M\"]  = moneySpent[\"M\"].astype(int)\n",
    "\n",
    "\n",
    "moneySpent[\"O\"] = moneySpent[\"O\"].replace(\"O\", 1)\n",
    "moneySpent[\"O\"] = moneySpent[\"O\"].replace(\"M\", 0)\n",
    "moneySpent[\"O\"] = moneySpent[\"O\"].replace(\"F\", 0)\n",
    "moneySpent[\"O\"]  = moneySpent[\"O\"].fillna(0)\n",
    "moneySpent[\"O\"]  = moneySpent[\"O\"].astype(int)\n",
    "\n",
    "\n",
    "moneySpent[\"gender\"]  = moneySpent[\"gender\"].replace(\"F\", True)\n",
    "moneySpent[\"gender\"]  = moneySpent[\"gender\"].replace(\"M\", True)\n",
    "moneySpent[\"gender\"]  = moneySpent[\"gender\"].replace(\"O\", True)\n",
    "moneySpent[\"gender\"]  = moneySpent[\"gender\"].fillna(False)\n",
    "moneySpent[\"gender\"]  = moneySpent[\"gender\"].astype(bool)\n",
    "\n",
    "\n",
    "# splitting member date into month, year, day\n",
    "datetimes = pd.to_datetime(moneySpent[\"became_member_on\"])\n",
    "moneySpent[\"day\"] = datetimes.dt.day\n",
    "moneySpent[\"month\"] = datetimes.dt.month\n",
    "moneySpent[\"year\"] = datetimes.dt.year\n",
    "\n",
    "\n",
    "moneySpent = moneySpent.dropna(subset=[\"income\"])\n",
    "\n",
    "del moneySpent[\"person\"]\n",
    "moneySpent = moneySpent.reset_index()\n",
    "#cleaning is done, time to implement knn\n",
    "moneySpent"
   ]
  },
  {
   "cell_type": "code",
   "execution_count": 28,
   "id": "c7ec3a81",
   "metadata": {},
   "outputs": [],
   "source": [
    "from sklearn.model_selection import train_test_split\n",
    "from sklearn.preprocessing import MinMaxScaler\n",
    "from sklearn import neighbors\n",
    "from sklearn.metrics import mean_squared_error \n",
    "from math import sqrt\n",
    "%matplotlib inline\n",
    "\n",
    "X = moneySpent[[\"age\", \"income\", \"F\", \"M\", \"O\", \"month\", \"year\", \"day\"]]\n",
    "\n",
    "#standardize y value \n",
    "moneySpent[\"log(value)\"] = np.log10(moneySpent[\"value\"])\n",
    "y = pd.DataFrame()\n",
    "y[\"log(value)\"] = moneySpent[\"log(value)\"]\n",
    "#y = moneySpent[\"value\"]\n",
    "\n",
    "#split data into train and test\n",
    "X_train, X_test, y_train, y_test = train_test_split(X, y, test_size=0.2, random_state=12345)\n",
    "\n",
    "#standardize features\n",
    "X_train = (X_train - X_train.mean())/X_train.std()\n",
    "X_test = (X_test - X_test.mean())/X_test.std()\n",
    "\n"
   ]
  },
  {
   "cell_type": "code",
   "execution_count": 29,
   "id": "e07b056d",
   "metadata": {},
   "outputs": [],
   "source": [
    "#create elbow curve to determine K\n",
    "err = []\n",
    "for K in range(10):\n",
    "    K = K+1\n",
    "    temp_model = neighbors.KNeighborsRegressor(n_neighbors = K)\n",
    "    temp_model.fit(X_train, y_train)  #fit the model\n",
    "    pred=temp_model.predict(X_test) \n",
    "    error = sqrt(mean_squared_error(y_test,pred))\n",
    "    err.append(error)"
   ]
  },
  {
   "cell_type": "code",
   "execution_count": 30,
   "id": "0b16479d-e08d-4a19-a390-67fafd8b7a0b",
   "metadata": {},
   "outputs": [
    {
     "data": {
      "text/plain": [
       "[<matplotlib.lines.Line2D at 0x21564f54d60>]"
      ]
     },
     "execution_count": 30,
     "metadata": {},
     "output_type": "execute_result"
    },
    {
     "data": {
      "image/png": "[encoded data removed]",
      "text/plain": [
       "<Figure size 432x288 with 1 Axes>"
      ]
     },
     "metadata": {
      "needs_background": "light"
     },
     "output_type": "display_data"
    }
   ],
   "source": [
    "index = [1, 2, 3, 4, 5, 6, 7, 8, 9, 10]\n",
    "plt.plot(index, err)"
   ]
  },
  {
   "cell_type": "code",
   "execution_count": 31,
   "id": "d84374ac-67fe-4c23-843a-038c5310e437",
   "metadata": {},
   "outputs": [
    {
     "data": {
      "text/plain": [
       "array([[0.93914682],\n",
       "       [0.2498174 ],\n",
       "       [1.03224322],\n",
       "       ...,\n",
       "       [0.81788891],\n",
       "       [0.27332381],\n",
       "       [1.31231076]])"
      ]
     },
     "execution_count": 31,
     "metadata": {},
     "output_type": "execute_result"
    }
   ],
   "source": [
    "K = 5\n",
    "knn = neighbors.KNeighborsRegressor(n_neighbors = K)\n",
    "knn.fit(X_train, y_train)  #fit the model\n",
    "knn.predict(X_test)"
   ]
  },
  {
   "cell_type": "code",
   "execution_count": 32,
   "id": "9f3f2377-ea42-4ef1-9d80-292a3e9f8fde",
   "metadata": {},
   "outputs": [
    {
     "data": {
      "text/plain": [
       "<AxesSubplot:xlabel='age', ylabel='value'>"
      ]
     },
     "execution_count": 32,
     "metadata": {},
     "output_type": "execute_result"
    },
    {
     "data": {
      "image/png": "[encoded data removed]",
      "text/plain": [
       "<Figure size 432x288 with 1 Axes>"
      ]
     },
     "metadata": {
      "needs_background": "light"
     },
     "output_type": "display_data"
    }
   ],
   "source": [
    "# Define a grid of feature values.\n",
    "train, test = train_test_split(moneySpent, test_size = .2)\n",
    "\n",
    "X_train_age = train[[\"age\"]]\n",
    "y_train_age = train[\"value\"]\n",
    "\n",
    "model = neighbors.KNeighborsRegressor(n_neighbors=K)\n",
    "model.fit(X=X_train_age, y=y_train_age)\n",
    "\n",
    "X_new = pd.DataFrame()\n",
    "X_new[\"age\"] = np.linspace(18,100, num=1000)\n",
    "\n",
    "# Make predictions at those feature values.\n",
    "y_new_ = pd.Series(\n",
    "    model.predict(X_new),\n",
    "    index=X_new[\"age\"]\n",
    ")\n",
    "\n",
    "\n",
    "# Plot the predictions.\n",
    "train.plot.scatter(x=\"age\", y=\"value\")\n",
    "y_new_.plot.line(color = \"red\")"
   ]
  },
  {
   "cell_type": "code",
   "execution_count": 33,
   "id": "42ae6653-62b4-469c-96ed-4b793368871d",
   "metadata": {},
   "outputs": [
    {
     "data": {
      "text/plain": [
       "<AxesSubplot:xlabel='income', ylabel='value'>"
      ]
     },
     "execution_count": 33,
     "metadata": {},
     "output_type": "execute_result"
    },
    {
     "data": {
      "image/png": "[encoded data removed]",
      "text/plain": [
       "<Figure size 432x288 with 1 Axes>"
      ]
     },
     "metadata": {
      "needs_background": "light"
     },
     "output_type": "display_data"
    }
   ],
   "source": [
    "X_train_income = train[[\"income\"]]\n",
    "y_train_income = train[\"value\"]\n",
    "\n",
    "model = neighbors.KNeighborsRegressor(n_neighbors=K)\n",
    "model.fit(X=X_train_income, y=y_train_income)\n",
    "\n",
    "X_new = pd.DataFrame()\n",
    "X_new[\"income\"] = np.linspace(train[\"income\"].min(),train[\"income\"].max(), num=500)\n",
    "\n",
    "# Make predictions at those feature values.\n",
    "y_new_ = pd.Series(\n",
    "    model.predict(X_new),\n",
    "    index=X_new[\"income\"]\n",
    ")\n",
    "\n",
    "\n",
    "# Plot the predictions.\n",
    "train.plot.scatter(x=\"income\", y=\"value\")\n",
    "y_new_.plot.line(color = \"red\")"
   ]
  },
  {
   "cell_type": "code",
   "execution_count": 34,
   "id": "e5133b6b-c22a-4f64-ba70-d703263bbc21",
   "metadata": {},
   "outputs": [
    {
     "data": {
      "text/plain": [
       "<AxesSubplot:xlabel='age', ylabel='income'>"
      ]
     },
     "execution_count": 34,
     "metadata": {},
     "output_type": "execute_result"
    },
    {
     "data": {
      "image/png": "[encoded data removed]",
      "text/plain": [
       "<Figure size 432x288 with 2 Axes>"
      ]
     },
     "metadata": {
      "needs_background": "light"
     },
     "output_type": "display_data"
    }
   ],
   "source": [
    "import matplotlib.cm as cm\n",
    "train.plot.scatter(x=\"age\", y=\"income\", c=\"log(value)\", cmap=cm.YlOrRd)"
   ]
  }
 ],
 "metadata": {
  "interpreter": {
   "hash": "38071d42346113907ecedb6227c75235207545b2fa36b0e69a5d4a2aacf28a88"
  },
  "kernelspec": {
   "display_name": "Python 3 (ipykernel)",
   "language": "python",
   "name": "python3"
  },
  "language_info": {
   "codemirror_mode": {
    "name": "ipython",
    "version": 3
   },
   "file_extension": ".py",
   "mimetype": "text/x-python",
   "name": "python",
   "nbconvert_exporter": "python",
   "pygments_lexer": "ipython3",
   "version": "3.9.7"
  }
 },
 "nbformat": 4,
 "nbformat_minor": 5
}
